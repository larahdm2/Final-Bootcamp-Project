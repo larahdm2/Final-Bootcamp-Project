{
 "cells": [
  {
   "cell_type": "markdown",
   "id": "bb8bf4f0",
   "metadata": {},
   "source": [
    "Citation\n",
    "\n",
    "Tschandl, Philipp, 2018, \"The HAM10000 dataset, a large collection of multi-source dermatoscopic images of common pigmented skin lesions\", https://doi.org/10.7910/DVN/DBW86T, Harvard Dataverse, V4, UNF:6:KCZFcBLiFE5ObWcTc2ZBOA== [fileUNF]"
   ]
  },
  {
   "cell_type": "code",
   "execution_count": 1,
   "id": "af73443e",
   "metadata": {},
   "outputs": [],
   "source": [
    "import pandas as pd\n",
    "import numpy as np\n",
    "\n",
    "import random\n",
    "\n",
    "import pickle\n",
    "\n",
    "import tensorflow as tf\n",
    "\n",
    "import matplotlib.pyplot as plt\n",
    "\n",
    "import os.path\n",
    "\n",
    "import seaborn as sns\n",
    "\n",
    "from matplotlib.colors import LinearSegmentedColormap, ListedColormap\n",
    "\n",
    "from PIL import Image\n",
    "from PIL import ImageOps\n",
    "\n",
    "from keras.utils import to_categorical\n",
    "\n",
    "from sklearn.utils import resample\n",
    "\n",
    "from sklearn.preprocessing import OneHotEncoder\n",
    "\n",
    "from sklearn.preprocessing import MinMaxScaler\n",
    "\n",
    "from sklearn.model_selection import train_test_split\n",
    "\n",
    "from sklearn.metrics import confusion_matrix\n",
    "\n",
    "from sklearn.metrics import ConfusionMatrixDisplay\n",
    "\n",
    "from keras.models import Sequential\n",
    "from keras.layers import Conv2D, MaxPooling2D, Flatten, Dense, Dropout\n",
    "\n",
    "from keras.optimizers import Adam\n",
    "\n",
    "from keras.models import load_model"
   ]
  },
  {
   "cell_type": "markdown",
   "id": "5005bb24",
   "metadata": {},
   "source": [
    "# 1 Data"
   ]
  },
  {
   "cell_type": "markdown",
   "id": "429802fa",
   "metadata": {},
   "source": [
    "### 1.1 Cleaning and exploration"
   ]
  },
  {
   "cell_type": "code",
   "execution_count": 3,
   "id": "da182f47",
   "metadata": {},
   "outputs": [],
   "source": [
    "data = pd.read_csv('fbp_data0.csv')"
   ]
  },
  {
   "cell_type": "code",
   "execution_count": 4,
   "id": "98aa7dca",
   "metadata": {},
   "outputs": [
    {
     "data": {
      "text/html": [
       "<div>\n",
       "<style scoped>\n",
       "    .dataframe tbody tr th:only-of-type {\n",
       "        vertical-align: middle;\n",
       "    }\n",
       "\n",
       "    .dataframe tbody tr th {\n",
       "        vertical-align: top;\n",
       "    }\n",
       "\n",
       "    .dataframe thead th {\n",
       "        text-align: right;\n",
       "    }\n",
       "</style>\n",
       "<table border=\"1\" class=\"dataframe\">\n",
       "  <thead>\n",
       "    <tr style=\"text-align: right;\">\n",
       "      <th></th>\n",
       "      <th>lesion_id</th>\n",
       "      <th>image_id</th>\n",
       "      <th>dx</th>\n",
       "      <th>dx_type</th>\n",
       "      <th>age</th>\n",
       "      <th>sex</th>\n",
       "      <th>localization</th>\n",
       "    </tr>\n",
       "  </thead>\n",
       "  <tbody>\n",
       "    <tr>\n",
       "      <th>0</th>\n",
       "      <td>HAM_0000118</td>\n",
       "      <td>ISIC_0027419</td>\n",
       "      <td>bkl</td>\n",
       "      <td>histo</td>\n",
       "      <td>80.0</td>\n",
       "      <td>male</td>\n",
       "      <td>scalp</td>\n",
       "    </tr>\n",
       "    <tr>\n",
       "      <th>1</th>\n",
       "      <td>HAM_0000118</td>\n",
       "      <td>ISIC_0025030</td>\n",
       "      <td>bkl</td>\n",
       "      <td>histo</td>\n",
       "      <td>80.0</td>\n",
       "      <td>male</td>\n",
       "      <td>scalp</td>\n",
       "    </tr>\n",
       "    <tr>\n",
       "      <th>2</th>\n",
       "      <td>HAM_0002730</td>\n",
       "      <td>ISIC_0026769</td>\n",
       "      <td>bkl</td>\n",
       "      <td>histo</td>\n",
       "      <td>80.0</td>\n",
       "      <td>male</td>\n",
       "      <td>scalp</td>\n",
       "    </tr>\n",
       "    <tr>\n",
       "      <th>3</th>\n",
       "      <td>HAM_0002730</td>\n",
       "      <td>ISIC_0025661</td>\n",
       "      <td>bkl</td>\n",
       "      <td>histo</td>\n",
       "      <td>80.0</td>\n",
       "      <td>male</td>\n",
       "      <td>scalp</td>\n",
       "    </tr>\n",
       "    <tr>\n",
       "      <th>4</th>\n",
       "      <td>HAM_0001466</td>\n",
       "      <td>ISIC_0031633</td>\n",
       "      <td>bkl</td>\n",
       "      <td>histo</td>\n",
       "      <td>75.0</td>\n",
       "      <td>male</td>\n",
       "      <td>ear</td>\n",
       "    </tr>\n",
       "    <tr>\n",
       "      <th>...</th>\n",
       "      <td>...</td>\n",
       "      <td>...</td>\n",
       "      <td>...</td>\n",
       "      <td>...</td>\n",
       "      <td>...</td>\n",
       "      <td>...</td>\n",
       "      <td>...</td>\n",
       "    </tr>\n",
       "    <tr>\n",
       "      <th>10010</th>\n",
       "      <td>HAM_0002867</td>\n",
       "      <td>ISIC_0033084</td>\n",
       "      <td>akiec</td>\n",
       "      <td>histo</td>\n",
       "      <td>40.0</td>\n",
       "      <td>male</td>\n",
       "      <td>abdomen</td>\n",
       "    </tr>\n",
       "    <tr>\n",
       "      <th>10011</th>\n",
       "      <td>HAM_0002867</td>\n",
       "      <td>ISIC_0033550</td>\n",
       "      <td>akiec</td>\n",
       "      <td>histo</td>\n",
       "      <td>40.0</td>\n",
       "      <td>male</td>\n",
       "      <td>abdomen</td>\n",
       "    </tr>\n",
       "    <tr>\n",
       "      <th>10012</th>\n",
       "      <td>HAM_0002867</td>\n",
       "      <td>ISIC_0033536</td>\n",
       "      <td>akiec</td>\n",
       "      <td>histo</td>\n",
       "      <td>40.0</td>\n",
       "      <td>male</td>\n",
       "      <td>abdomen</td>\n",
       "    </tr>\n",
       "    <tr>\n",
       "      <th>10013</th>\n",
       "      <td>HAM_0000239</td>\n",
       "      <td>ISIC_0032854</td>\n",
       "      <td>akiec</td>\n",
       "      <td>histo</td>\n",
       "      <td>80.0</td>\n",
       "      <td>male</td>\n",
       "      <td>face</td>\n",
       "    </tr>\n",
       "    <tr>\n",
       "      <th>10014</th>\n",
       "      <td>HAM_0003521</td>\n",
       "      <td>ISIC_0032258</td>\n",
       "      <td>mel</td>\n",
       "      <td>histo</td>\n",
       "      <td>70.0</td>\n",
       "      <td>female</td>\n",
       "      <td>back</td>\n",
       "    </tr>\n",
       "  </tbody>\n",
       "</table>\n",
       "<p>10015 rows × 7 columns</p>\n",
       "</div>"
      ],
      "text/plain": [
       "         lesion_id      image_id     dx dx_type   age     sex localization\n",
       "0      HAM_0000118  ISIC_0027419    bkl   histo  80.0    male        scalp\n",
       "1      HAM_0000118  ISIC_0025030    bkl   histo  80.0    male        scalp\n",
       "2      HAM_0002730  ISIC_0026769    bkl   histo  80.0    male        scalp\n",
       "3      HAM_0002730  ISIC_0025661    bkl   histo  80.0    male        scalp\n",
       "4      HAM_0001466  ISIC_0031633    bkl   histo  75.0    male          ear\n",
       "...            ...           ...    ...     ...   ...     ...          ...\n",
       "10010  HAM_0002867  ISIC_0033084  akiec   histo  40.0    male      abdomen\n",
       "10011  HAM_0002867  ISIC_0033550  akiec   histo  40.0    male      abdomen\n",
       "10012  HAM_0002867  ISIC_0033536  akiec   histo  40.0    male      abdomen\n",
       "10013  HAM_0000239  ISIC_0032854  akiec   histo  80.0    male         face\n",
       "10014  HAM_0003521  ISIC_0032258    mel   histo  70.0  female         back\n",
       "\n",
       "[10015 rows x 7 columns]"
      ]
     },
     "execution_count": 4,
     "metadata": {},
     "output_type": "execute_result"
    }
   ],
   "source": [
    "data"
   ]
  },
  {
   "cell_type": "code",
   "execution_count": 5,
   "id": "251019a9",
   "metadata": {},
   "outputs": [
    {
     "data": {
      "text/html": [
       "<div>\n",
       "<style scoped>\n",
       "    .dataframe tbody tr th:only-of-type {\n",
       "        vertical-align: middle;\n",
       "    }\n",
       "\n",
       "    .dataframe tbody tr th {\n",
       "        vertical-align: top;\n",
       "    }\n",
       "\n",
       "    .dataframe thead th {\n",
       "        text-align: right;\n",
       "    }\n",
       "</style>\n",
       "<table border=\"1\" class=\"dataframe\">\n",
       "  <thead>\n",
       "    <tr style=\"text-align: right;\">\n",
       "      <th>localization</th>\n",
       "      <th>abdomen</th>\n",
       "      <th>acral</th>\n",
       "      <th>back</th>\n",
       "      <th>chest</th>\n",
       "      <th>ear</th>\n",
       "      <th>face</th>\n",
       "      <th>foot</th>\n",
       "      <th>genital</th>\n",
       "      <th>hand</th>\n",
       "      <th>lower extremity</th>\n",
       "      <th>neck</th>\n",
       "      <th>scalp</th>\n",
       "      <th>trunk</th>\n",
       "      <th>unknown</th>\n",
       "      <th>upper extremity</th>\n",
       "    </tr>\n",
       "    <tr>\n",
       "      <th>dx</th>\n",
       "      <th></th>\n",
       "      <th></th>\n",
       "      <th></th>\n",
       "      <th></th>\n",
       "      <th></th>\n",
       "      <th></th>\n",
       "      <th></th>\n",
       "      <th></th>\n",
       "      <th></th>\n",
       "      <th></th>\n",
       "      <th></th>\n",
       "      <th></th>\n",
       "      <th></th>\n",
       "      <th></th>\n",
       "      <th></th>\n",
       "    </tr>\n",
       "  </thead>\n",
       "  <tbody>\n",
       "    <tr>\n",
       "      <th>akiec</th>\n",
       "      <td>5</td>\n",
       "      <td>0</td>\n",
       "      <td>29</td>\n",
       "      <td>12</td>\n",
       "      <td>3</td>\n",
       "      <td>113</td>\n",
       "      <td>0</td>\n",
       "      <td>0</td>\n",
       "      <td>13</td>\n",
       "      <td>65</td>\n",
       "      <td>10</td>\n",
       "      <td>14</td>\n",
       "      <td>1</td>\n",
       "      <td>0</td>\n",
       "      <td>62</td>\n",
       "    </tr>\n",
       "    <tr>\n",
       "      <th>bcc</th>\n",
       "      <td>18</td>\n",
       "      <td>0</td>\n",
       "      <td>186</td>\n",
       "      <td>47</td>\n",
       "      <td>0</td>\n",
       "      <td>101</td>\n",
       "      <td>4</td>\n",
       "      <td>0</td>\n",
       "      <td>2</td>\n",
       "      <td>58</td>\n",
       "      <td>14</td>\n",
       "      <td>19</td>\n",
       "      <td>11</td>\n",
       "      <td>5</td>\n",
       "      <td>49</td>\n",
       "    </tr>\n",
       "    <tr>\n",
       "      <th>bkl</th>\n",
       "      <td>42</td>\n",
       "      <td>0</td>\n",
       "      <td>202</td>\n",
       "      <td>74</td>\n",
       "      <td>6</td>\n",
       "      <td>319</td>\n",
       "      <td>1</td>\n",
       "      <td>2</td>\n",
       "      <td>14</td>\n",
       "      <td>174</td>\n",
       "      <td>31</td>\n",
       "      <td>34</td>\n",
       "      <td>73</td>\n",
       "      <td>23</td>\n",
       "      <td>104</td>\n",
       "    </tr>\n",
       "    <tr>\n",
       "      <th>df</th>\n",
       "      <td>4</td>\n",
       "      <td>0</td>\n",
       "      <td>2</td>\n",
       "      <td>0</td>\n",
       "      <td>0</td>\n",
       "      <td>0</td>\n",
       "      <td>2</td>\n",
       "      <td>1</td>\n",
       "      <td>0</td>\n",
       "      <td>82</td>\n",
       "      <td>0</td>\n",
       "      <td>0</td>\n",
       "      <td>0</td>\n",
       "      <td>0</td>\n",
       "      <td>24</td>\n",
       "    </tr>\n",
       "    <tr>\n",
       "      <th>mel</th>\n",
       "      <td>66</td>\n",
       "      <td>0</td>\n",
       "      <td>324</td>\n",
       "      <td>68</td>\n",
       "      <td>17</td>\n",
       "      <td>104</td>\n",
       "      <td>28</td>\n",
       "      <td>0</td>\n",
       "      <td>1</td>\n",
       "      <td>192</td>\n",
       "      <td>29</td>\n",
       "      <td>14</td>\n",
       "      <td>47</td>\n",
       "      <td>10</td>\n",
       "      <td>213</td>\n",
       "    </tr>\n",
       "    <tr>\n",
       "      <th>nv</th>\n",
       "      <td>860</td>\n",
       "      <td>7</td>\n",
       "      <td>1427</td>\n",
       "      <td>200</td>\n",
       "      <td>30</td>\n",
       "      <td>100</td>\n",
       "      <td>284</td>\n",
       "      <td>45</td>\n",
       "      <td>55</td>\n",
       "      <td>1479</td>\n",
       "      <td>81</td>\n",
       "      <td>45</td>\n",
       "      <td>1241</td>\n",
       "      <td>196</td>\n",
       "      <td>655</td>\n",
       "    </tr>\n",
       "    <tr>\n",
       "      <th>vasc</th>\n",
       "      <td>27</td>\n",
       "      <td>0</td>\n",
       "      <td>22</td>\n",
       "      <td>6</td>\n",
       "      <td>0</td>\n",
       "      <td>8</td>\n",
       "      <td>0</td>\n",
       "      <td>0</td>\n",
       "      <td>5</td>\n",
       "      <td>27</td>\n",
       "      <td>3</td>\n",
       "      <td>2</td>\n",
       "      <td>31</td>\n",
       "      <td>0</td>\n",
       "      <td>11</td>\n",
       "    </tr>\n",
       "  </tbody>\n",
       "</table>\n",
       "</div>"
      ],
      "text/plain": [
       "localization  abdomen  acral  back  chest  ear  face  foot  genital  hand  \\\n",
       "dx                                                                          \n",
       "akiec               5      0    29     12    3   113     0        0    13   \n",
       "bcc                18      0   186     47    0   101     4        0     2   \n",
       "bkl                42      0   202     74    6   319     1        2    14   \n",
       "df                  4      0     2      0    0     0     2        1     0   \n",
       "mel                66      0   324     68   17   104    28        0     1   \n",
       "nv                860      7  1427    200   30   100   284       45    55   \n",
       "vasc               27      0    22      6    0     8     0        0     5   \n",
       "\n",
       "localization  lower extremity  neck  scalp  trunk  unknown  upper extremity  \n",
       "dx                                                                           \n",
       "akiec                      65    10     14      1        0               62  \n",
       "bcc                        58    14     19     11        5               49  \n",
       "bkl                       174    31     34     73       23              104  \n",
       "df                         82     0      0      0        0               24  \n",
       "mel                       192    29     14     47       10              213  \n",
       "nv                       1479    81     45   1241      196              655  \n",
       "vasc                       27     3      2     31        0               11  "
      ]
     },
     "execution_count": 5,
     "metadata": {},
     "output_type": "execute_result"
    }
   ],
   "source": [
    "pd.crosstab(data.dx, data.localization)"
   ]
  },
  {
   "cell_type": "markdown",
   "id": "b3a0d0a8",
   "metadata": {},
   "source": [
    "> I will drop rows that have too few instances, as they can introduce noise to the model."
   ]
  },
  {
   "cell_type": "code",
   "execution_count": 6,
   "id": "71fdd009",
   "metadata": {},
   "outputs": [],
   "source": [
    "data = data[data['dx'] != 'df']"
   ]
  },
  {
   "cell_type": "code",
   "execution_count": 7,
   "id": "071c43de",
   "metadata": {},
   "outputs": [],
   "source": [
    "data = data[data['dx'] != 'vasc']"
   ]
  },
  {
   "cell_type": "code",
   "execution_count": 8,
   "id": "416efb71",
   "metadata": {},
   "outputs": [],
   "source": [
    "data = data[data['localization'] != 'acral']"
   ]
  },
  {
   "cell_type": "code",
   "execution_count": 9,
   "id": "ed054f89",
   "metadata": {},
   "outputs": [],
   "source": [
    "data = data[data['localization'] != 'ear']"
   ]
  },
  {
   "cell_type": "code",
   "execution_count": 10,
   "id": "bf66e16e",
   "metadata": {},
   "outputs": [],
   "source": [
    "data = data[data['localization'] != 'foot']"
   ]
  },
  {
   "cell_type": "code",
   "execution_count": 11,
   "id": "edc19493",
   "metadata": {},
   "outputs": [],
   "source": [
    "data = data[data['localization'] != 'genital']"
   ]
  },
  {
   "cell_type": "code",
   "execution_count": 12,
   "id": "42d4a89f",
   "metadata": {},
   "outputs": [],
   "source": [
    "data = data[data['localization'] != 'hand']"
   ]
  },
  {
   "cell_type": "code",
   "execution_count": 13,
   "id": "bcd971e8",
   "metadata": {},
   "outputs": [],
   "source": [
    "data = data[data['localization'] != 'unknown']"
   ]
  },
  {
   "cell_type": "markdown",
   "id": "ba4c8a71",
   "metadata": {},
   "source": [
    "### 1.2 Sets of Lesion"
   ]
  },
  {
   "cell_type": "markdown",
   "id": "30bd7dec",
   "metadata": {},
   "source": [
    "> The set of pictures is computationally heavy and expensive. Therefore, I am planning to divide it into three sets. Two of these sets will serve as training data for two different models, while the third one will be used as a test set, to be evaluated with both models.\n",
    ">\n",
    "> I want each of the three sets to have the same proportion of lesions. Therefore, I'll start by creating five sets for each type of lesion."
   ]
  },
  {
   "cell_type": "code",
   "execution_count": 14,
   "id": "003d7753",
   "metadata": {},
   "outputs": [
    {
     "data": {
      "text/plain": [
       "nv       6088\n",
       "mel      1057\n",
       "bkl      1053\n",
       "bcc       503\n",
       "akiec     311\n",
       "Name: dx, dtype: int64"
      ]
     },
     "execution_count": 14,
     "metadata": {},
     "output_type": "execute_result"
    }
   ],
   "source": [
    "data['dx'].value_counts()"
   ]
  },
  {
   "cell_type": "code",
   "execution_count": 15,
   "id": "9a5a64de",
   "metadata": {},
   "outputs": [],
   "source": [
    "nv = data[data['dx']=='nv'].reset_index(drop=True)"
   ]
  },
  {
   "cell_type": "code",
   "execution_count": 135,
   "id": "7b4bbf90",
   "metadata": {},
   "outputs": [
    {
     "data": {
      "text/html": [
       "<div>\n",
       "<style scoped>\n",
       "    .dataframe tbody tr th:only-of-type {\n",
       "        vertical-align: middle;\n",
       "    }\n",
       "\n",
       "    .dataframe tbody tr th {\n",
       "        vertical-align: top;\n",
       "    }\n",
       "\n",
       "    .dataframe thead th {\n",
       "        text-align: right;\n",
       "    }\n",
       "</style>\n",
       "<table border=\"1\" class=\"dataframe\">\n",
       "  <thead>\n",
       "    <tr style=\"text-align: right;\">\n",
       "      <th></th>\n",
       "      <th>lesion_id</th>\n",
       "      <th>image_id</th>\n",
       "      <th>dx</th>\n",
       "      <th>dx_type</th>\n",
       "      <th>age</th>\n",
       "      <th>sex</th>\n",
       "      <th>localization</th>\n",
       "    </tr>\n",
       "  </thead>\n",
       "  <tbody>\n",
       "    <tr>\n",
       "      <th>0</th>\n",
       "      <td>HAM_0002644</td>\n",
       "      <td>ISIC_0029417</td>\n",
       "      <td>1</td>\n",
       "      <td>histo</td>\n",
       "      <td>80.0</td>\n",
       "      <td>female</td>\n",
       "      <td>neck</td>\n",
       "    </tr>\n",
       "    <tr>\n",
       "      <th>1</th>\n",
       "      <td>HAM_0006002</td>\n",
       "      <td>ISIC_0029915</td>\n",
       "      <td>1</td>\n",
       "      <td>histo</td>\n",
       "      <td>50.0</td>\n",
       "      <td>female</td>\n",
       "      <td>face</td>\n",
       "    </tr>\n",
       "    <tr>\n",
       "      <th>2</th>\n",
       "      <td>HAM_0000549</td>\n",
       "      <td>ISIC_0029360</td>\n",
       "      <td>1</td>\n",
       "      <td>histo</td>\n",
       "      <td>70.0</td>\n",
       "      <td>male</td>\n",
       "      <td>upper extremity</td>\n",
       "    </tr>\n",
       "    <tr>\n",
       "      <th>3</th>\n",
       "      <td>HAM_0000549</td>\n",
       "      <td>ISIC_0026152</td>\n",
       "      <td>1</td>\n",
       "      <td>histo</td>\n",
       "      <td>70.0</td>\n",
       "      <td>male</td>\n",
       "      <td>upper extremity</td>\n",
       "    </tr>\n",
       "    <tr>\n",
       "      <th>4</th>\n",
       "      <td>HAM_0000673</td>\n",
       "      <td>ISIC_0029659</td>\n",
       "      <td>1</td>\n",
       "      <td>histo</td>\n",
       "      <td>70.0</td>\n",
       "      <td>female</td>\n",
       "      <td>face</td>\n",
       "    </tr>\n",
       "    <tr>\n",
       "      <th>...</th>\n",
       "      <td>...</td>\n",
       "      <td>...</td>\n",
       "      <td>...</td>\n",
       "      <td>...</td>\n",
       "      <td>...</td>\n",
       "      <td>...</td>\n",
       "      <td>...</td>\n",
       "    </tr>\n",
       "    <tr>\n",
       "      <th>306</th>\n",
       "      <td>HAM_0005705</td>\n",
       "      <td>ISIC_0031430</td>\n",
       "      <td>1</td>\n",
       "      <td>histo</td>\n",
       "      <td>75.0</td>\n",
       "      <td>female</td>\n",
       "      <td>lower extremity</td>\n",
       "    </tr>\n",
       "    <tr>\n",
       "      <th>307</th>\n",
       "      <td>HAM_0002867</td>\n",
       "      <td>ISIC_0033084</td>\n",
       "      <td>1</td>\n",
       "      <td>histo</td>\n",
       "      <td>40.0</td>\n",
       "      <td>male</td>\n",
       "      <td>abdomen</td>\n",
       "    </tr>\n",
       "    <tr>\n",
       "      <th>308</th>\n",
       "      <td>HAM_0002867</td>\n",
       "      <td>ISIC_0033550</td>\n",
       "      <td>1</td>\n",
       "      <td>histo</td>\n",
       "      <td>40.0</td>\n",
       "      <td>male</td>\n",
       "      <td>abdomen</td>\n",
       "    </tr>\n",
       "    <tr>\n",
       "      <th>309</th>\n",
       "      <td>HAM_0002867</td>\n",
       "      <td>ISIC_0033536</td>\n",
       "      <td>1</td>\n",
       "      <td>histo</td>\n",
       "      <td>40.0</td>\n",
       "      <td>male</td>\n",
       "      <td>abdomen</td>\n",
       "    </tr>\n",
       "    <tr>\n",
       "      <th>310</th>\n",
       "      <td>HAM_0000239</td>\n",
       "      <td>ISIC_0032854</td>\n",
       "      <td>1</td>\n",
       "      <td>histo</td>\n",
       "      <td>80.0</td>\n",
       "      <td>male</td>\n",
       "      <td>face</td>\n",
       "    </tr>\n",
       "  </tbody>\n",
       "</table>\n",
       "<p>311 rows × 7 columns</p>\n",
       "</div>"
      ],
      "text/plain": [
       "       lesion_id      image_id  dx dx_type   age     sex     localization\n",
       "0    HAM_0002644  ISIC_0029417   1   histo  80.0  female             neck\n",
       "1    HAM_0006002  ISIC_0029915   1   histo  50.0  female             face\n",
       "2    HAM_0000549  ISIC_0029360   1   histo  70.0    male  upper extremity\n",
       "3    HAM_0000549  ISIC_0026152   1   histo  70.0    male  upper extremity\n",
       "4    HAM_0000673  ISIC_0029659   1   histo  70.0  female             face\n",
       "..           ...           ...  ..     ...   ...     ...              ...\n",
       "306  HAM_0005705  ISIC_0031430   1   histo  75.0  female  lower extremity\n",
       "307  HAM_0002867  ISIC_0033084   1   histo  40.0    male          abdomen\n",
       "308  HAM_0002867  ISIC_0033550   1   histo  40.0    male          abdomen\n",
       "309  HAM_0002867  ISIC_0033536   1   histo  40.0    male          abdomen\n",
       "310  HAM_0000239  ISIC_0032854   1   histo  80.0    male             face\n",
       "\n",
       "[311 rows x 7 columns]"
      ]
     },
     "execution_count": 135,
     "metadata": {},
     "output_type": "execute_result"
    }
   ],
   "source": [
    "akiec\n",
    "\n"
   ]
  },
  {
   "cell_type": "code",
   "execution_count": 16,
   "id": "fbb38e5f",
   "metadata": {},
   "outputs": [],
   "source": [
    "mel = data[data['dx']=='mel'].reset_index(drop=True)  "
   ]
  },
  {
   "cell_type": "code",
   "execution_count": 17,
   "id": "c2bd3c51",
   "metadata": {},
   "outputs": [],
   "source": [
    "bkl = data[data['dx']=='bkl'].reset_index(drop=True)     "
   ]
  },
  {
   "cell_type": "code",
   "execution_count": 18,
   "id": "5f7110ea",
   "metadata": {},
   "outputs": [],
   "source": [
    "bcc = data[data['dx']=='bcc'].reset_index(drop=True)     "
   ]
  },
  {
   "cell_type": "code",
   "execution_count": 19,
   "id": "2dba03af",
   "metadata": {},
   "outputs": [],
   "source": [
    "akiec = data[data['dx']=='akiec'].reset_index(drop=True)     "
   ]
  },
  {
   "cell_type": "markdown",
   "id": "751692a4",
   "metadata": {},
   "source": [
    "### <font color='orange'>Assumption:</font> \n",
    "I consider akiec as a malignant lesion because it is popularly known as a precancerous lesion."
   ]
  },
  {
   "cell_type": "markdown",
   "id": "30180acb",
   "metadata": {},
   "source": [
    "# 2 Images Processing"
   ]
  },
  {
   "cell_type": "markdown",
   "id": "dbf2de9f",
   "metadata": {},
   "source": [
    "> The images processed by the models need to be distinct, and the test images must be identical. However, one model will utilize grayscale pictures while the other will use RGB pictures. Therefore, I need to prepare the same test set in these two different formats.\n",
    ">\n",
    "> You will notice that some cells are commented, while others are not. To improve efficiency, I am only keeping the lightweight cells. For the RGB images, I've saved the array so I can simply open it. Additionally, we no longer need the training images as the models have been trained, fit, and saved. We can upload them later on."
   ]
  },
  {
   "cell_type": "markdown",
   "id": "51eef8c9",
   "metadata": {},
   "source": [
    "### 2.1 Train Grayscale"
   ]
  },
  {
   "cell_type": "markdown",
   "id": "58c792a7",
   "metadata": {},
   "source": [
    "> The array for this set should be in the format (number of pictures, height, width, and number of channels = 1 for grayscale).\n",
    ">\n",
    "> First, I'll open them using the 'open' function from the PIL library. Then, I'll convert them to grayscale format and into an array. \n",
    ">\n",
    "> Afterwards, I'll select which indexes will be included in this set and append them to the main training array that will be used for the model.\n",
    ">\n",
    "> In order to have balanced sets, I´ll chose 69 features for the 3 benign classes, and 103 for the malignant ones."
   ]
  },
  {
   "cell_type": "code",
   "execution_count": 20,
   "id": "55f7d942",
   "metadata": {},
   "outputs": [],
   "source": [
    "# image_nv = Image.open('fbp_pictures_1/ISIC_0024698.jpg')\n",
    "# image_nv = ImageOps.grayscale(image_nv)\n",
    "# image_nv = np.array(image_nv)\n",
    "\n",
    "# image_mel = Image.open('fbp_pictures_1/ISIC_0025964.jpg')\n",
    "# image_mel = ImageOps.grayscale(image_mel)\n",
    "# image_mel = np.array(image_mel)\n",
    "\n",
    "# image_bkl = Image.open('fbp_pictures_1/ISIC_0027419.jpg')\n",
    "# image_bkl = ImageOps.grayscale(image_bkl)\n",
    "# image_bkl = np.array(image_bkl)\n",
    "\n",
    "# image_bcc = Image.open('fbp_pictures_1/ISIC_0028155.jpg')\n",
    "# image_bcc = ImageOps.grayscale(image_bcc)\n",
    "# image_bcc = np.array(image_bcc)\n",
    "\n",
    "# image_akiec = Image.open('fbp_pictures_1/ISIC_0029417.jpg')\n",
    "# image_akiec = ImageOps.grayscale(image_akiec)\n",
    "# image_akiec = np.array(image_akiec)"
   ]
  },
  {
   "cell_type": "code",
   "execution_count": 21,
   "id": "1d9e7a2e",
   "metadata": {},
   "outputs": [],
   "source": [
    "# image_nv_col = nv.loc[1:102, ['image_id']]\n",
    "# image_mel_col = mel.loc[1:68, ['image_id']]\n",
    "# image_bkl_col = bkl.loc[1:102, ['image_id']]\n",
    "# image_bcc_col = bcc.loc[1:68, ['image_id']]\n",
    "# image_akiec_col = akiec.loc[1:68, ['image_id']]"
   ]
  },
  {
   "cell_type": "code",
   "execution_count": 22,
   "id": "54fcb795",
   "metadata": {},
   "outputs": [],
   "source": [
    "# images_nv = image_nv.reshape(1, 450, 600, 1)\n",
    "# images_mel = image_mel.reshape(1, 450, 600, 1)\n",
    "# images_bkl = image_bkl.reshape(1, 450, 600, 1)\n",
    "# images_bcc = image_bcc.reshape(1, 450, 600, 1)\n",
    "# images_akiec = image_akiec.reshape(1, 450, 600, 1)\n",
    "\n",
    "# for i in image_nv_col['image_id']:\n",
    "#     image_nv = Image.open('fbp_pictures_1/' + i + '.jpg')\n",
    "#     image_nv = ImageOps.grayscale(image_nv)\n",
    "#     image_nv = np.array(image_nv)\n",
    "#     image_nv = image_nv.reshape(1, 450, 600, 1)\n",
    "#     images_nv = np.vstack([images_nv, image_nv])\n",
    "\n",
    "# for i in image_mel_col['image_id']:\n",
    "#     image_mel = Image.open('fbp_pictures_1/' + i + '.jpg')\n",
    "#     image_mel = ImageOps.grayscale(image_mel)\n",
    "#     image_mel = np.array(image_mel)\n",
    "#     image_mel = image_mel.reshape(1, 450, 600, 1)\n",
    "#     images_mel = np.vstack([images_mel, image_mel])\n",
    "    \n",
    "# for i in image_bkl_col['image_id']:\n",
    "#     image_bkl = Image.open('fbp_pictures_1/' + i + '.jpg')\n",
    "#     image_bkl = ImageOps.grayscale(image_bkl)\n",
    "#     image_bkl = np.array(image_bkl)\n",
    "#     image_bkl = image_bkl.reshape(1, 450, 600, 1)\n",
    "#     images_bkl = np.vstack([images_bkl, image_bkl])\n",
    "\n",
    "# for i in image_bcc_col['image_id']:\n",
    "#     image_bcc = Image.open('fbp_pictures_1/' + i + '.jpg')\n",
    "#     image_bcc = ImageOps.grayscale(image_bcc)\n",
    "#     image_bcc = np.array(image_bcc)\n",
    "#     image_bcc = image_bcc.reshape(1, 450, 600, 1)\n",
    "#     images_bcc = np.vstack([images_bcc, image_bcc])\n",
    "    \n",
    "# for i in image_akiec_col['image_id']:\n",
    "#     image_akiec = Image.open('fbp_pictures_1/' + i + '.jpg')\n",
    "#     image_akiec = ImageOps.grayscale(image_akiec)\n",
    "#     image_akiec = np.array(image_akiec)\n",
    "#     image_akiec = image_akiec.reshape(1, 450, 600, 1)\n",
    "#     images_akiec = np.vstack([images_akiec, image_akiec])\n",
    "    \n",
    "# images_gray_train = np.vstack([images_nv, images_mel, images_bkl, images_bcc, images_akiec])"
   ]
  },
  {
   "cell_type": "code",
   "execution_count": 23,
   "id": "f4e430b5",
   "metadata": {},
   "outputs": [],
   "source": [
    "# images_gray_train.shape"
   ]
  },
  {
   "cell_type": "markdown",
   "id": "2655fd38",
   "metadata": {},
   "source": [
    "### 2.2 Test Grayscale"
   ]
  },
  {
   "cell_type": "markdown",
   "id": "892e78b5",
   "metadata": {},
   "source": [
    "> Same as previous, but with the next set of pictures."
   ]
  },
  {
   "cell_type": "code",
   "execution_count": 24,
   "id": "87de610d",
   "metadata": {},
   "outputs": [
    {
     "data": {
      "text/plain": [
       "image_id    ISIC_0031940\n",
       "Name: 69, dtype: object"
      ]
     },
     "execution_count": 24,
     "metadata": {},
     "output_type": "execute_result"
    }
   ],
   "source": [
    "akiec.loc[69, ['image_id']]"
   ]
  },
  {
   "cell_type": "code",
   "execution_count": 43,
   "id": "86142fd9",
   "metadata": {},
   "outputs": [],
   "source": [
    "image_nv = Image.open('fbp_pictures_1/ISIC_0027974.jpg')\n",
    "image_nv = ImageOps.grayscale(image_nv)\n",
    "image_nv = np.array(image_nv)\n",
    "\n",
    "image_mel = Image.open('fbp_pictures_1/ISIC_0026909.jpg')\n",
    "image_mel = ImageOps.grayscale(image_mel)\n",
    "image_mel = np.array(image_mel)\n",
    "\n",
    "image_bkl = Image.open('fbp_pictures_1/ISIC_0024623.jpg')\n",
    "image_bkl = ImageOps.grayscale(image_bkl)\n",
    "image_bkl = np.array(image_bkl)\n",
    "\n",
    "image_bcc = Image.open('fbp_pictures_1/ISIC_0027117.jpg')\n",
    "image_bcc = ImageOps.grayscale(image_bcc)\n",
    "image_bcc = np.array(image_bcc)\n",
    "\n",
    "image_akiec = Image.open('fbp_pictures_1/ISIC_0031940.jpg')\n",
    "image_akiec = ImageOps.grayscale(image_akiec)\n",
    "image_akiec = np.array(image_akiec)"
   ]
  },
  {
   "cell_type": "code",
   "execution_count": 44,
   "id": "29531048",
   "metadata": {},
   "outputs": [
    {
     "data": {
      "text/plain": [
       "(413, 450, 600, 1)"
      ]
     },
     "execution_count": 44,
     "metadata": {},
     "output_type": "execute_result"
    }
   ],
   "source": [
    "image_nv_col = nv.loc[104:205, ['image_id']]\n",
    "image_mel_col = mel.loc[70:137, ['image_id']]\n",
    "image_bkl_col = bkl.loc[104:205, ['image_id']]\n",
    "image_bcc_col = bcc.loc[70:137, ['image_id']]\n",
    "image_akiec_col = akiec.loc[70:137, ['image_id']]\n",
    "\n",
    "\n",
    "images_nv = image_nv.reshape(1, 450, 600, 1)\n",
    "images_mel = image_mel.reshape(1, 450, 600, 1)\n",
    "images_bkl = image_bkl.reshape(1, 450, 600, 1)\n",
    "images_bcc = image_bcc.reshape(1, 450, 600, 1)\n",
    "images_akiec = image_akiec.reshape(1, 450, 600, 1)\n",
    "\n",
    "for i in image_nv_col['image_id']:\n",
    "    image_nv = Image.open('fbp_pictures_1/' + i + '.jpg')\n",
    "    image_nv = ImageOps.grayscale(image_nv)\n",
    "    image_nv = np.array(image_nv)\n",
    "    image_nv = image_nv.reshape(1, 450, 600, 1)\n",
    "    images_nv = np.vstack([images_nv, image_nv])\n",
    "\n",
    "for i in image_mel_col['image_id']:\n",
    "    image_mel = Image.open('fbp_pictures_1/' + i + '.jpg')\n",
    "    image_mel = ImageOps.grayscale(image_mel)\n",
    "    image_mel = np.array(image_mel)\n",
    "    image_mel = image_mel.reshape(1, 450, 600, 1)\n",
    "    images_mel = np.vstack([images_mel, image_mel])\n",
    "    \n",
    "for i in image_bkl_col['image_id']:\n",
    "    image_bkl = Image.open('fbp_pictures_1/' + i + '.jpg')\n",
    "    image_bkl = ImageOps.grayscale(image_bkl)\n",
    "    image_bkl = np.array(image_bkl)\n",
    "    image_bkl = image_bkl.reshape(1, 450, 600, 1)\n",
    "    images_bkl = np.vstack([images_bkl, image_bkl])\n",
    "\n",
    "for i in image_bcc_col['image_id']:\n",
    "    image_bcc = Image.open('fbp_pictures_1/' + i + '.jpg')\n",
    "    image_bcc = ImageOps.grayscale(image_bcc)\n",
    "    image_bcc = np.array(image_bcc)\n",
    "    image_bcc = image_bcc.reshape(1, 450, 600, 1)\n",
    "    images_bcc = np.vstack([images_bcc, image_bcc])\n",
    "    \n",
    "for i in image_akiec_col['image_id']:\n",
    "    image_akiec = Image.open('fbp_pictures_1/' + i + '.jpg')\n",
    "    image_akiec = ImageOps.grayscale(image_akiec)\n",
    "    image_akiec = np.array(image_akiec)\n",
    "    image_akiec = image_akiec.reshape(1, 450, 600, 1)\n",
    "    images_akiec = np.vstack([images_akiec, image_akiec])\n",
    "    \n",
    "images_gray_test = np.vstack([images_nv, images_mel, images_bkl, images_bcc, images_akiec])\n",
    "\n",
    "\n",
    "images_gray_test.shape"
   ]
  },
  {
   "cell_type": "markdown",
   "id": "a78a0fff",
   "metadata": {},
   "source": [
    "### 2.3 Train RGB"
   ]
  },
  {
   "cell_type": "markdown",
   "id": "69c8c176",
   "metadata": {},
   "source": [
    "> In this case, the number of channels will be 3, and the images don't need to undergo the grayscale transformation"
   ]
  },
  {
   "cell_type": "code",
   "execution_count": 45,
   "id": "1532fb16",
   "metadata": {},
   "outputs": [],
   "source": [
    "# akiec.loc[206, ['image_id']]"
   ]
  },
  {
   "cell_type": "code",
   "execution_count": 46,
   "id": "08207991",
   "metadata": {},
   "outputs": [],
   "source": [
    "# image_nv = Image.open('fbp_pictures_1/ISIC_0025692.jpg')\n",
    "# image_nv = np.array(image_nv)\n",
    "\n",
    "# image_mel = Image.open('fbp_pictures_1/ISIC_0033899.jpg')\n",
    "# image_mel = np.array(image_mel)\n",
    "\n",
    "# image_bkl = Image.open('fbp_pictures_1/ISIC_0033899.jpg')\n",
    "# image_bkl = np.array(image_bkl)\n",
    "\n",
    "# image_bcc = Image.open('fbp_pictures_1/ISIC_0027090.jpg')\n",
    "# image_bcc = np.array(image_bcc)\n",
    "\n",
    "# image_akiec = Image.open('fbp_pictures_1/ISIC_0029638.jpg')\n",
    "# image_akiec = np.array(image_akiec)"
   ]
  },
  {
   "cell_type": "code",
   "execution_count": 47,
   "id": "a568ae10",
   "metadata": {},
   "outputs": [],
   "source": [
    "# image_nv_col = nv.loc[207:308, ['image_id']]\n",
    "# image_mel_col = mel.loc[139:206, ['image_id']]\n",
    "# image_bkl_col = bkl.loc[207:308, ['image_id']]\n",
    "# image_bcc_col = bcc.loc[139:206, ['image_id']]\n",
    "# image_akiec_col = akiec.loc[139:206, ['image_id']]\n",
    "\n",
    "\n",
    "# images_nv = image_nv.reshape(1, 450, 600, 3)\n",
    "# images_mel = image_mel.reshape(1, 450, 600, 3)\n",
    "# images_bkl = image_bkl.reshape(1, 450, 600, 3)\n",
    "# images_bcc = image_bcc.reshape(1, 450, 600, 3)\n",
    "# images_akiec = image_akiec.reshape(1, 450, 600, 3)\n",
    "\n",
    "# for i in image_nv_col['image_id']:\n",
    "#     image_nv = Image.open('fbp_pictures_1/' + i + '.jpg')\n",
    "#     image_nv = np.array(image_nv)\n",
    "#     image_nv = image_nv.reshape(1, 450, 600, 3)\n",
    "#     images_nv = np.vstack([images_nv, image_nv])\n",
    "\n",
    "# for i in image_mel_col['image_id']:\n",
    "#     image_mel = Image.open('fbp_pictures_1/' + i + '.jpg')\n",
    "#     image_mel = np.array(image_mel)\n",
    "#     image_mel = image_mel.reshape(1, 450, 600, 3)\n",
    "#     images_mel = np.vstack([images_mel, image_mel])\n",
    "    \n",
    "# for i in image_bkl_col['image_id']:\n",
    "#     image_bkl = Image.open('fbp_pictures_1/' + i + '.jpg')\n",
    "#     image_bkl = np.array(image_bkl)\n",
    "#     image_bkl = image_bkl.reshape(1, 450, 600, 3)\n",
    "#     images_bkl = np.vstack([images_bkl, image_bkl])\n",
    "\n",
    "# for i in image_bcc_col['image_id']:\n",
    "#     image_bcc = Image.open('fbp_pictures_1/' + i + '.jpg')\n",
    "#     image_bcc = np.array(image_bcc)\n",
    "#     image_bcc = image_bcc.reshape(1, 450, 600, 3)\n",
    "#     images_bcc = np.vstack([images_bcc, image_bcc])\n",
    "    \n",
    "# for i in image_akiec_col['image_id']:\n",
    "#     image_akiec = Image.open('fbp_pictures_1/' + i + '.jpg')\n",
    "#     image_akiec = np.array(image_akiec)\n",
    "#     image_akiec = image_akiec.reshape(1, 450, 600, 3)\n",
    "#     images_akiec = np.vstack([images_akiec, image_akiec])\n",
    "    \n",
    "# images_rgb_train = np.vstack([images_nv, images_mel, images_bkl, images_bcc, images_akiec])\n",
    "\n",
    "\n",
    "# images_rgb_train.shape"
   ]
  },
  {
   "cell_type": "markdown",
   "id": "73464cac",
   "metadata": {},
   "source": [
    "### 2.4 Test RGB"
   ]
  },
  {
   "cell_type": "code",
   "execution_count": 48,
   "id": "29d60b9f",
   "metadata": {},
   "outputs": [],
   "source": [
    "# image_nv = Image.open('fbp_pictures_1/ISIC_0027974.jpg')\n",
    "# image_nv = np.array(image_nv)\n",
    "\n",
    "# image_mel = Image.open('fbp_pictures_1/ISIC_0026909.jpg')\n",
    "# image_mel = np.array(image_mel)\n",
    "\n",
    "# image_bkl = Image.open('fbp_pictures_1/ISIC_0024623.jpg')\n",
    "# image_bkl = np.array(image_bkl)\n",
    "\n",
    "# image_bcc = Image.open('fbp_pictures_1/ISIC_0027117.jpg')\n",
    "# image_bcc = np.array(image_bcc)\n",
    "\n",
    "# image_akiec = Image.open('fbp_pictures_1/ISIC_0031940.jpg')\n",
    "# image_akiec = np.array(image_akiec)\n",
    "\n",
    "# image_nv_col = nv.loc[104:205, ['image_id']]\n",
    "# image_mel_col = mel.loc[70:137, ['image_id']]\n",
    "# image_bkl_col = bkl.loc[104:205, ['image_id']]\n",
    "# image_bcc_col = bcc.loc[70:137, ['image_id']]\n",
    "# image_akiec_col = akiec.loc[70:137, ['image_id']]\n",
    "\n",
    "\n",
    "# images_nv = image_nv.reshape(1, 450, 600, 3)\n",
    "# images_mel = image_mel.reshape(1, 450, 600, 3)\n",
    "# images_bkl = image_bkl.reshape(1, 450, 600, 3)\n",
    "# images_bcc = image_bcc.reshape(1, 450, 600, 3)\n",
    "# images_akiec = image_akiec.reshape(1, 450, 600, 3)\n",
    "\n",
    "# for i in image_nv_col['image_id']:\n",
    "#     image_nv = Image.open('fbp_pictures_1/' + i + '.jpg')\n",
    "#     image_nv = np.array(image_nv)\n",
    "#     image_nv = image_nv.reshape(1, 450, 600, 3)\n",
    "#     images_nv = np.vstack([images_nv, image_nv])\n",
    "\n",
    "# for i in image_mel_col['image_id']:\n",
    "#     image_mel = Image.open('fbp_pictures_1/' + i + '.jpg')\n",
    "#     image_mel = np.array(image_mel)\n",
    "#     image_mel = image_mel.reshape(1, 450, 600, 3)\n",
    "#     images_mel = np.vstack([images_mel, image_mel])\n",
    "    \n",
    "# for i in image_bkl_col['image_id']:\n",
    "#     image_bkl = Image.open('fbp_pictures_1/' + i + '.jpg')\n",
    "#     image_bkl = np.array(image_bkl)\n",
    "#     image_bkl = image_bkl.reshape(1, 450, 600, 3)\n",
    "#     images_bkl = np.vstack([images_bkl, image_bkl])\n",
    "\n",
    "# for i in image_bcc_col['image_id']:\n",
    "#     image_bcc = Image.open('fbp_pictures_1/' + i + '.jpg')\n",
    "#     image_bcc = np.array(image_bcc)\n",
    "#     image_bcc = image_bcc.reshape(1, 450, 600, 3)\n",
    "#     images_bcc = np.vstack([images_bcc, image_bcc])\n",
    "    \n",
    "# for i in image_akiec_col['image_id']:\n",
    "#     image_akiec = Image.open('fbp_pictures_1/' + i + '.jpg')\n",
    "#     image_akiec = np.array(image_akiec)\n",
    "#     image_akiec = image_akiec.reshape(1, 450, 600, 3)\n",
    "#     images_akiec = np.vstack([images_akiec, image_akiec])\n",
    "    \n",
    "# images_rgb_test = np.vstack([images_nv, images_mel, images_bkl, images_bcc, images_akiec])\n",
    "\n",
    "\n",
    "# images_rgb_test.shape"
   ]
  },
  {
   "cell_type": "markdown",
   "id": "0178e627",
   "metadata": {},
   "source": [
    "# 3 Labels"
   ]
  },
  {
   "cell_type": "markdown",
   "id": "94073bc4",
   "metadata": {},
   "source": [
    "> For the models we are going to use, each label needs to be represented as an array with two columns. If the first column has a value of 1, it will indicate that it's benign."
   ]
  },
  {
   "cell_type": "code",
   "execution_count": 49,
   "id": "ed1e9efa",
   "metadata": {
    "scrolled": true
   },
   "outputs": [],
   "source": [
    "nv['dx'] = nv['dx'].replace('nv', 0)\n",
    "mel['dx'] = mel['dx'].replace('mel', 1)\n",
    "bkl['dx'] = bkl['dx'].replace('bkl', 0)\n",
    "bcc['dx'] = bcc['dx'].replace('bcc', 1)\n",
    "akiec['dx'] = akiec['dx'].replace('akiec', 1)"
   ]
  },
  {
   "cell_type": "markdown",
   "id": "351374bc",
   "metadata": {},
   "source": [
    "### 3.1 Labels Train Gray"
   ]
  },
  {
   "cell_type": "code",
   "execution_count": 50,
   "id": "82058920",
   "metadata": {},
   "outputs": [],
   "source": [
    "# labels_gray_train = np.array([])\n",
    "\n",
    "# for i in range(0, 103):\n",
    "#     labels_gray_train = np.append(labels_gray_train, nv.loc[i, ['dx']])\n",
    "\n",
    "# for i in range(0, 69):\n",
    "#     labels_gray_train = np.append(labels_gray_train, mel.loc[i, ['dx']])\n",
    "\n",
    "# for i in range(0, 103):\n",
    "#     labels_gray_train = np.append(labels_gray_train, bkl.loc[i, ['dx']])\n",
    "\n",
    "# for i in range(0, 69):\n",
    "#     labels_gray_train = np.append(labels_gray_train, bcc.loc[i, ['dx']])\n",
    "\n",
    "# for i in range(0, 69):\n",
    "#     labels_gray_train = np.append(labels_gray_train, akiec.loc[i, ['dx']])"
   ]
  },
  {
   "cell_type": "code",
   "execution_count": 51,
   "id": "debf6d54",
   "metadata": {},
   "outputs": [],
   "source": [
    "# labels_gray_train.shape"
   ]
  },
  {
   "cell_type": "code",
   "execution_count": 52,
   "id": "d4b1328a",
   "metadata": {},
   "outputs": [],
   "source": [
    "# num_classes = 2\n",
    "# labels_gray_train = to_categorical(labels_gray_train, num_classes)"
   ]
  },
  {
   "cell_type": "markdown",
   "id": "715a6a00",
   "metadata": {},
   "source": [
    "### 3.2 Labels Test Gray"
   ]
  },
  {
   "cell_type": "code",
   "execution_count": 53,
   "id": "58e0c1ae",
   "metadata": {},
   "outputs": [],
   "source": [
    "labels_gray_test = np.array([])\n",
    "\n",
    "for i in range(103, 206):\n",
    "    labels_gray_test = np.append(labels_gray_test, nv.loc[i, ['dx']])\n",
    "\n",
    "for i in range(69, 138):\n",
    "    labels_gray_test = np.append(labels_gray_test, mel.loc[i, ['dx']])\n",
    "\n",
    "for i in range(103, 206):\n",
    "    labels_gray_test = np.append(labels_gray_test, bkl.loc[i, ['dx']])\n",
    "\n",
    "for i in range(69, 138):\n",
    "    labels_gray_test = np.append(labels_gray_test, bcc.loc[i, ['dx']])\n",
    "\n",
    "for i in range(69, 138):\n",
    "    labels_gray_test = np.append(labels_gray_test, akiec.loc[i, ['dx']])"
   ]
  },
  {
   "cell_type": "code",
   "execution_count": 54,
   "id": "c60ec9a5",
   "metadata": {},
   "outputs": [
    {
     "data": {
      "text/plain": [
       "(413,)"
      ]
     },
     "execution_count": 54,
     "metadata": {},
     "output_type": "execute_result"
    }
   ],
   "source": [
    "labels_gray_test.shape"
   ]
  },
  {
   "cell_type": "code",
   "execution_count": 55,
   "id": "69ddf0d3",
   "metadata": {},
   "outputs": [],
   "source": [
    "num_classes = 2\n",
    "labels_gray_test = to_categorical(labels_gray_test, num_classes)"
   ]
  },
  {
   "cell_type": "markdown",
   "id": "bf5e9a0e",
   "metadata": {},
   "source": [
    "### 3.3 Labels Train RGB"
   ]
  },
  {
   "cell_type": "code",
   "execution_count": 56,
   "id": "220d7c2f",
   "metadata": {},
   "outputs": [],
   "source": [
    "# labels_rgb_train = np.array([])\n",
    "\n",
    "# for i in range(206, 309):\n",
    "#     labels_rgb_train = np.append(labels_rgb_train, nv.loc[i, ['dx']])\n",
    "\n",
    "# for i in range(138, 207):\n",
    "#     labels_rgb_train = np.append(labels_rgb_train, mel.loc[i, ['dx']])\n",
    "\n",
    "# for i in range(206, 309):\n",
    "#     labels_rgb_train = np.append(labels_rgb_train, bkl.loc[i, ['dx']])\n",
    "\n",
    "# for i in range(138, 207):\n",
    "#     labels_rgb_train = np.append(labels_rgb_train, bcc.loc[i, ['dx']])\n",
    "\n",
    "# for i in range(138, 207):\n",
    "#     labels_rgb_train = np.append(labels_rgb_train, akiec.loc[i, ['dx']])"
   ]
  },
  {
   "cell_type": "code",
   "execution_count": 57,
   "id": "27f78c27",
   "metadata": {},
   "outputs": [],
   "source": [
    "# labels_rgb_train.shape"
   ]
  },
  {
   "cell_type": "code",
   "execution_count": 58,
   "id": "16d7daf4",
   "metadata": {},
   "outputs": [],
   "source": [
    "# num_classes = 2\n",
    "# labels_rgb_train = to_categorical(labels_rgb_train, num_classes)"
   ]
  },
  {
   "cell_type": "markdown",
   "id": "ab3a0672",
   "metadata": {},
   "source": [
    "### 3.4 Labels Test RGB"
   ]
  },
  {
   "cell_type": "code",
   "execution_count": 59,
   "id": "dd029a71",
   "metadata": {},
   "outputs": [],
   "source": [
    "labels_rgb_test = labels_gray_test"
   ]
  },
  {
   "cell_type": "markdown",
   "id": "d0ee3d8a",
   "metadata": {},
   "source": [
    "# 4 Scaling and Modeling"
   ]
  },
  {
   "cell_type": "markdown",
   "id": "b821643b",
   "metadata": {},
   "source": [
    "### 4.1 Scaling"
   ]
  },
  {
   "cell_type": "code",
   "execution_count": 60,
   "id": "a36f7aa5",
   "metadata": {},
   "outputs": [],
   "source": [
    "# images_gray_train = images_gray_train/255"
   ]
  },
  {
   "cell_type": "code",
   "execution_count": 61,
   "id": "b81272ee",
   "metadata": {},
   "outputs": [],
   "source": [
    "images_gray_test = images_gray_test/255"
   ]
  },
  {
   "cell_type": "code",
   "execution_count": null,
   "id": "4d0ef973",
   "metadata": {},
   "outputs": [],
   "source": [
    "# images_rgb_train = images_rgb_train/255"
   ]
  },
  {
   "cell_type": "code",
   "execution_count": null,
   "id": "2d352243",
   "metadata": {},
   "outputs": [],
   "source": [
    "# np.save('fbp_array_3.npy', images_rgb_train)"
   ]
  },
  {
   "cell_type": "code",
   "execution_count": null,
   "id": "060495d9",
   "metadata": {},
   "outputs": [],
   "source": [
    "# images_rgb_train = np.load('fbp_array_3.npy')"
   ]
  },
  {
   "cell_type": "code",
   "execution_count": 62,
   "id": "51373888",
   "metadata": {},
   "outputs": [],
   "source": [
    "# images_rgb_test = images_rgb_test/255\n",
    "# np.save('fbp_array_1.npy', images_rgb_test)\n",
    "images_rgb_test = np.load('fbp_array_1.npy')"
   ]
  },
  {
   "cell_type": "markdown",
   "id": "a9b35ed4",
   "metadata": {},
   "source": [
    "### 4.2 Permutation"
   ]
  },
  {
   "cell_type": "markdown",
   "id": "359577fd",
   "metadata": {},
   "source": [
    "> We need to shake the arrays because the model should produce the same output regardless of the order of elements in the input set."
   ]
  },
  {
   "cell_type": "markdown",
   "id": "85476516",
   "metadata": {},
   "source": [
    "##### 4.2.1 Gray"
   ]
  },
  {
   "cell_type": "code",
   "execution_count": null,
   "id": "16143952",
   "metadata": {},
   "outputs": [],
   "source": [
    "# for _ in range(5): \n",
    "#     indexes = np.random.permutation(len(images_gray_train))"
   ]
  },
  {
   "cell_type": "code",
   "execution_count": null,
   "id": "ad4422e8",
   "metadata": {},
   "outputs": [],
   "source": [
    "# images_gray_train = images_gray_train[indexes]\n",
    "# labels_gray_train = labels_gray_train[indexes]"
   ]
  },
  {
   "cell_type": "code",
   "execution_count": null,
   "id": "ad55091d",
   "metadata": {},
   "outputs": [],
   "source": [
    "# val_perc = 0.10\n",
    "# val_count = int(val_perc * len(images_gray_train))\n",
    "\n",
    "# images_gray_val = images_gray_train[:val_count,:]\n",
    "# labels_gray_val = labels_gray_train[:val_count,:]\n",
    "\n",
    "# images_gray_train2 = images_gray_train[val_count:,:]\n",
    "# labels_gray_train2 = labels_gray_train[val_count:,:]"
   ]
  },
  {
   "cell_type": "code",
   "execution_count": null,
   "id": "f222c277",
   "metadata": {},
   "outputs": [],
   "source": [
    "# image_height = 450 \n",
    "# image_width = 600\n",
    "# num_channels = 1"
   ]
  },
  {
   "cell_type": "markdown",
   "id": "cac97fd5",
   "metadata": {},
   "source": [
    "##### 4.2.1 RGB"
   ]
  },
  {
   "cell_type": "code",
   "execution_count": null,
   "id": "efa744be",
   "metadata": {},
   "outputs": [],
   "source": [
    "# for _ in range(5): \n",
    "#     indexes = np.random.permutation(len(images_rgb_train))\n",
    "\n",
    "# images_rgb_train = images_rgb_train[indexes]\n",
    "# labels_rgb_train = labels_rgb_train[indexes]\n",
    "\n",
    "# val_perc = 0.10\n",
    "# val_count = int(val_perc * len(images_rgb_train))\n",
    "\n",
    "# images_rgb_val = images_rgb_train[:val_count,:]\n",
    "# labels_rgb_val = labels_rgb_train[:val_count,:]\n",
    "\n",
    "# images_rgb_train2 = images_rgb_train[val_count:,:]\n",
    "# labels_rgb_train2 = labels_rgb_train[val_count:,:]\n",
    "\n",
    "# image_height = 450 \n",
    "# image_width = 600\n",
    "# num_channels_rgb = 3"
   ]
  },
  {
   "cell_type": "markdown",
   "id": "705c6c3d",
   "metadata": {},
   "source": [
    "### Models explanation\n",
    "> I have attempted various combinations to improve the model, although they are not displayed here. I am also aware that when dealing with binary classification, the typical configuration for the dense layer unit is 1. However, that would have required a different approach in processing because the model would produce an output, but the labels are in sets of two. Additionally, the other model generates two probabilities. I believe it's better to ensure both models' predictions are in the same format.\n",
    ">\n",
    "> Both models employ 2 convolutional and pooling layers, as well as a flatten and a dense layer. However, the model that fits the grayscale set uses the categorical cross-entropy loss function (the most popular one for image processing) and the softmax activation function. In both models, recall is used as the metric, as I aim to enhance the detection of malignant cases.\n",
    ">\n",
    "> I have observed that increasing the number of epochs causes the model to overfit the training data. Hence, I'll keep the number of epochs relatively small. Additionally, I'll keep the batch size small to help the model generalize better. The other parameters are set to maximize efficiency and enhance the model's robustness.\n",
    ">\n",
    "> Regarding conclusions, please go to section 6 conclusions."
   ]
  },
  {
   "cell_type": "markdown",
   "id": "c9497155",
   "metadata": {},
   "source": [
    "### 4.3 Model Gray"
   ]
  },
  {
   "cell_type": "code",
   "execution_count": null,
   "id": "f00d0e70",
   "metadata": {},
   "outputs": [],
   "source": [
    "# model_gray = Sequential([\n",
    "#              Conv2D(filters=32, kernel_size=(3, 3), activation='relu', padding='same', input_shape=(image_height, image_width, num_channels)),\n",
    "#              MaxPooling2D(pool_size=(2, 2), strides=2),\n",
    "#              Conv2D(filters=64, kernel_size=(3, 3), activation='relu', padding='same'),\n",
    "#              MaxPooling2D(pool_size=(2, 2), strides=2),\n",
    "#              Flatten(),\n",
    "#              Dense(units=2, activation='softmax')\n",
    "# ])"
   ]
  },
  {
   "cell_type": "code",
   "execution_count": null,
   "id": "b3917823",
   "metadata": {},
   "outputs": [],
   "source": [
    "# model_gray.summary()"
   ]
  },
  {
   "cell_type": "code",
   "execution_count": null,
   "id": "104435b0",
   "metadata": {},
   "outputs": [],
   "source": [
    "# model_gray.compile(optimizer=Adam(learning_rate=0.0001), loss='categorical_crossentropy', metrics=[tf.keras.metrics.Recall()])"
   ]
  },
  {
   "cell_type": "code",
   "execution_count": null,
   "id": "b19b42d4",
   "metadata": {},
   "outputs": [],
   "source": [
    "# model_gray.fit(images_gray_train2, labels_gray_train2, epochs=8, batch_size=10, validation_data=(images_gray_val, labels_gray_val))"
   ]
  },
  {
   "cell_type": "markdown",
   "id": "6a5088ad",
   "metadata": {},
   "source": [
    "##### 4.3.2 Save Model"
   ]
  },
  {
   "cell_type": "code",
   "execution_count": null,
   "id": "757e2d2f",
   "metadata": {},
   "outputs": [],
   "source": [
    "# model_gray.save('fbp_model_1.h5')"
   ]
  },
  {
   "cell_type": "markdown",
   "id": "d1445efd",
   "metadata": {},
   "source": [
    "##### 4.3.3 Open Model"
   ]
  },
  {
   "cell_type": "code",
   "execution_count": 63,
   "id": "468e2ea6",
   "metadata": {},
   "outputs": [],
   "source": [
    "model_gray = load_model('fbp_model_1.h5')"
   ]
  },
  {
   "cell_type": "markdown",
   "id": "f1e06935",
   "metadata": {},
   "source": [
    "##### 4.3.4 Evaluate"
   ]
  },
  {
   "cell_type": "markdown",
   "id": "40370e14",
   "metadata": {},
   "source": [
    "4.3.4.1 Recall"
   ]
  },
  {
   "cell_type": "code",
   "execution_count": 64,
   "id": "29a91218",
   "metadata": {},
   "outputs": [
    {
     "name": "stdout",
     "output_type": "stream",
     "text": [
      "13/13 - 24s - loss: 0.6293 - recall: 0.6586 - 24s/epoch - 2s/step\n"
     ]
    },
    {
     "data": {
      "text/plain": [
       "[0.6293143033981323, 0.658595621585846]"
      ]
     },
     "execution_count": 64,
     "metadata": {},
     "output_type": "execute_result"
    }
   ],
   "source": [
    "model_gray.evaluate(images_gray_test, labels_gray_test, verbose=2)"
   ]
  },
  {
   "cell_type": "markdown",
   "id": "5322aab6",
   "metadata": {},
   "source": [
    "4.3.4.2 Predictions"
   ]
  },
  {
   "cell_type": "code",
   "execution_count": 65,
   "id": "666d8e01",
   "metadata": {},
   "outputs": [],
   "source": [
    "probability_model_gray = tf.keras.Sequential([model_gray, tf.keras.layers.Softmax()])"
   ]
  },
  {
   "cell_type": "code",
   "execution_count": 66,
   "id": "886dbcb6",
   "metadata": {},
   "outputs": [
    {
     "name": "stdout",
     "output_type": "stream",
     "text": [
      "13/13 [==============================] - 25s 2s/step\n"
     ]
    }
   ],
   "source": [
    "predictions_gray = probability_model_gray.predict(images_gray_test)"
   ]
  },
  {
   "cell_type": "code",
   "execution_count": 67,
   "id": "37ee26d5",
   "metadata": {},
   "outputs": [
    {
     "data": {
      "text/plain": [
       "array([[0.46907854, 0.53092146],\n",
       "       [0.5439423 , 0.4560577 ],\n",
       "       [0.45486468, 0.5451353 ],\n",
       "       [0.5512399 , 0.4487601 ],\n",
       "       [0.5607766 , 0.4392234 ],\n",
       "       [0.5543572 , 0.4456428 ],\n",
       "       [0.5797694 , 0.4202306 ],\n",
       "       [0.5538669 , 0.4461331 ],\n",
       "       [0.5130899 , 0.48691016],\n",
       "       [0.56483126, 0.43516883],\n",
       "       [0.5317453 , 0.46825472],\n",
       "       [0.55879647, 0.44120353],\n",
       "       [0.47853482, 0.5214652 ],\n",
       "       [0.5228676 , 0.4771324 ],\n",
       "       [0.60023075, 0.39976928],\n",
       "       [0.5826401 , 0.41735992],\n",
       "       [0.58634555, 0.4136544 ],\n",
       "       [0.60368276, 0.39631724],\n",
       "       [0.5809377 , 0.4190623 ],\n",
       "       [0.5895432 , 0.41045675],\n",
       "       [0.5692156 , 0.43078437],\n",
       "       [0.5437919 , 0.45620805],\n",
       "       [0.4267868 , 0.57321316],\n",
       "       [0.48135513, 0.5186448 ],\n",
       "       [0.56922823, 0.43077177],\n",
       "       [0.5454184 , 0.45458165],\n",
       "       [0.5166826 , 0.4833174 ],\n",
       "       [0.6015248 , 0.39847526],\n",
       "       [0.537492  , 0.46250805],\n",
       "       [0.554652  , 0.44534802],\n",
       "       [0.44674763, 0.5532524 ],\n",
       "       [0.58384216, 0.4161578 ],\n",
       "       [0.47811797, 0.521882  ],\n",
       "       [0.53186476, 0.4681353 ],\n",
       "       [0.48539484, 0.5146051 ],\n",
       "       [0.47731674, 0.5226832 ],\n",
       "       [0.5018198 , 0.4981802 ],\n",
       "       [0.49556357, 0.5044365 ],\n",
       "       [0.49428836, 0.5057117 ],\n",
       "       [0.5435446 , 0.45645547],\n",
       "       [0.49457482, 0.50542516],\n",
       "       [0.57203245, 0.42796755],\n",
       "       [0.48263794, 0.517362  ],\n",
       "       [0.53978384, 0.46021622],\n",
       "       [0.5829406 , 0.41705945],\n",
       "       [0.528628  , 0.471372  ],\n",
       "       [0.5751419 , 0.4248581 ],\n",
       "       [0.53890765, 0.4610924 ],\n",
       "       [0.48655424, 0.51344573],\n",
       "       [0.48268038, 0.5173196 ],\n",
       "       [0.5579702 , 0.44202977],\n",
       "       [0.48971277, 0.51028717],\n",
       "       [0.5162282 , 0.4837718 ],\n",
       "       [0.50460535, 0.49539468],\n",
       "       [0.53618103, 0.46381894],\n",
       "       [0.61242104, 0.38757893],\n",
       "       [0.5265272 , 0.4734727 ],\n",
       "       [0.5838886 , 0.4161114 ],\n",
       "       [0.58226174, 0.4177383 ],\n",
       "       [0.4983101 , 0.50168985],\n",
       "       [0.58190155, 0.41809845],\n",
       "       [0.42056623, 0.5794338 ],\n",
       "       [0.636602  , 0.36339802],\n",
       "       [0.5808435 , 0.41915652],\n",
       "       [0.6121587 , 0.3878413 ],\n",
       "       [0.45509365, 0.5449063 ],\n",
       "       [0.5771551 , 0.42284483],\n",
       "       [0.5840699 , 0.41593012],\n",
       "       [0.5784274 , 0.4215727 ],\n",
       "       [0.5602969 , 0.43970308],\n",
       "       [0.63527375, 0.3647263 ],\n",
       "       [0.52423126, 0.47576874],\n",
       "       [0.47865888, 0.52134115],\n",
       "       [0.5131173 , 0.48688272],\n",
       "       [0.46594483, 0.5340551 ],\n",
       "       [0.54852647, 0.45147344],\n",
       "       [0.54072684, 0.45927316],\n",
       "       [0.5971903 , 0.40280974],\n",
       "       [0.53667015, 0.46332994],\n",
       "       [0.4573072 , 0.5426927 ],\n",
       "       [0.51567376, 0.48432624],\n",
       "       [0.5406762 , 0.45932388],\n",
       "       [0.51049614, 0.4895039 ],\n",
       "       [0.539026  , 0.46097392],\n",
       "       [0.56057525, 0.43942478],\n",
       "       [0.48748335, 0.5125166 ],\n",
       "       [0.5945644 , 0.40543562],\n",
       "       [0.5320145 , 0.4679855 ],\n",
       "       [0.5402541 , 0.45974582],\n",
       "       [0.553921  , 0.446079  ],\n",
       "       [0.5913068 , 0.40869322],\n",
       "       [0.6428125 , 0.35718748],\n",
       "       [0.63402027, 0.3659797 ],\n",
       "       [0.6047268 , 0.39527324],\n",
       "       [0.60263294, 0.39736715],\n",
       "       [0.5835477 , 0.4164523 ],\n",
       "       [0.6029015 , 0.39709845],\n",
       "       [0.49783027, 0.5021697 ],\n",
       "       [0.51745117, 0.4825488 ],\n",
       "       [0.62367177, 0.37632823],\n",
       "       [0.45334512, 0.5466549 ],\n",
       "       [0.60103995, 0.39896008],\n",
       "       [0.46423936, 0.53576064],\n",
       "       [0.48864254, 0.5113575 ],\n",
       "       [0.39824104, 0.60175896],\n",
       "       [0.6009374 , 0.39906263],\n",
       "       [0.4721867 , 0.52781326],\n",
       "       [0.494074  , 0.505926  ],\n",
       "       [0.57728934, 0.4227107 ],\n",
       "       [0.46529713, 0.5347028 ],\n",
       "       [0.51944757, 0.48055238],\n",
       "       [0.52272296, 0.477277  ],\n",
       "       [0.42855418, 0.5714459 ],\n",
       "       [0.48482138, 0.5151786 ],\n",
       "       [0.4473538 , 0.5526462 ],\n",
       "       [0.5700388 , 0.42996114],\n",
       "       [0.56891376, 0.43108624],\n",
       "       [0.43647748, 0.5635225 ],\n",
       "       [0.34178594, 0.6582141 ],\n",
       "       [0.5238297 , 0.4761703 ],\n",
       "       [0.4879745 , 0.5120254 ],\n",
       "       [0.533701  , 0.46629894],\n",
       "       [0.46132246, 0.5386775 ],\n",
       "       [0.53305155, 0.46694848],\n",
       "       [0.5990991 , 0.40090093],\n",
       "       [0.54815066, 0.45184937],\n",
       "       [0.54138786, 0.45861217],\n",
       "       [0.52304715, 0.4769529 ],\n",
       "       [0.416855  , 0.58314496],\n",
       "       [0.4406196 , 0.5593805 ],\n",
       "       [0.5451476 , 0.45485237],\n",
       "       [0.49410802, 0.5058919 ],\n",
       "       [0.5090336 , 0.49096638],\n",
       "       [0.43428442, 0.56571555],\n",
       "       [0.34063202, 0.6593679 ],\n",
       "       [0.28134415, 0.7186558 ],\n",
       "       [0.5291861 , 0.4708138 ],\n",
       "       [0.41384315, 0.5861568 ],\n",
       "       [0.5173514 , 0.4826486 ],\n",
       "       [0.39664292, 0.60335714],\n",
       "       [0.5250307 , 0.47496936],\n",
       "       [0.43222204, 0.56777805],\n",
       "       [0.5854597 , 0.4145403 ],\n",
       "       [0.42931145, 0.57068855],\n",
       "       [0.47331005, 0.5266899 ],\n",
       "       [0.40501618, 0.5949838 ],\n",
       "       [0.4938373 , 0.5061627 ],\n",
       "       [0.47542784, 0.5245722 ],\n",
       "       [0.5175569 , 0.48244303],\n",
       "       [0.4954637 , 0.5045363 ],\n",
       "       [0.51531166, 0.4846883 ],\n",
       "       [0.51311135, 0.4868887 ],\n",
       "       [0.607157  , 0.392843  ],\n",
       "       [0.54495424, 0.4550457 ],\n",
       "       [0.5638477 , 0.43615228],\n",
       "       [0.4038754 , 0.5961246 ],\n",
       "       [0.46271694, 0.537283  ],\n",
       "       [0.46974412, 0.53025585],\n",
       "       [0.41020417, 0.5897958 ],\n",
       "       [0.42568213, 0.5743179 ],\n",
       "       [0.4449907 , 0.5550093 ],\n",
       "       [0.46474746, 0.5352526 ],\n",
       "       [0.4310477 , 0.5689523 ],\n",
       "       [0.5860007 , 0.4139993 ],\n",
       "       [0.32014167, 0.6798583 ],\n",
       "       [0.41242072, 0.5875793 ],\n",
       "       [0.52181786, 0.47818214],\n",
       "       [0.5646192 , 0.43538085],\n",
       "       [0.36790612, 0.6320939 ],\n",
       "       [0.45263445, 0.54736555],\n",
       "       [0.3861043 , 0.61389565],\n",
       "       [0.4919809 , 0.50801915],\n",
       "       [0.43903038, 0.5609696 ],\n",
       "       [0.45619452, 0.5438054 ],\n",
       "       [0.34043878, 0.6595612 ],\n",
       "       [0.43598878, 0.5640112 ],\n",
       "       [0.5139298 , 0.48607013],\n",
       "       [0.4241871 , 0.5758129 ],\n",
       "       [0.5240976 , 0.47590238],\n",
       "       [0.4851    , 0.5149    ],\n",
       "       [0.4877057 , 0.5122943 ],\n",
       "       [0.5594065 , 0.44059357],\n",
       "       [0.41028914, 0.5897109 ],\n",
       "       [0.4142293 , 0.5857707 ],\n",
       "       [0.49899936, 0.5010007 ],\n",
       "       [0.5536387 , 0.44636136],\n",
       "       [0.56903636, 0.43096367],\n",
       "       [0.6686041 , 0.33139595],\n",
       "       [0.43717885, 0.56282115],\n",
       "       [0.5109397 , 0.48906028],\n",
       "       [0.4062728 , 0.59372723],\n",
       "       [0.5129441 , 0.4870559 ],\n",
       "       [0.5580654 , 0.44193462],\n",
       "       [0.4340672 , 0.5659328 ],\n",
       "       [0.4922739 , 0.507726  ],\n",
       "       [0.6925329 , 0.30746716],\n",
       "       [0.54754007, 0.45245996],\n",
       "       [0.5114672 , 0.48853275],\n",
       "       [0.47079137, 0.52920866],\n",
       "       [0.45458314, 0.5454169 ],\n",
       "       [0.5195359 , 0.4804641 ],\n",
       "       [0.47119316, 0.52880687],\n",
       "       [0.53579724, 0.4642028 ],\n",
       "       [0.502124  , 0.49787602],\n",
       "       [0.57526195, 0.42473802],\n",
       "       [0.56869775, 0.43130228],\n",
       "       [0.47967187, 0.5203281 ],\n",
       "       [0.6896551 , 0.31034485],\n",
       "       [0.37510344, 0.6248966 ],\n",
       "       [0.34266105, 0.657339  ],\n",
       "       [0.33278814, 0.6672119 ],\n",
       "       [0.65794975, 0.34205025],\n",
       "       [0.50721467, 0.4927853 ],\n",
       "       [0.5667926 , 0.43320736],\n",
       "       [0.6394137 , 0.36058632],\n",
       "       [0.43100834, 0.5689916 ],\n",
       "       [0.59185433, 0.40814567],\n",
       "       [0.53483754, 0.46516246],\n",
       "       [0.65395296, 0.34604707],\n",
       "       [0.40331516, 0.5966848 ],\n",
       "       [0.6611696 , 0.33883044],\n",
       "       [0.47460058, 0.52539945],\n",
       "       [0.5011211 , 0.49887893],\n",
       "       [0.4584909 , 0.54150915],\n",
       "       [0.5686839 , 0.431316  ],\n",
       "       [0.534316  , 0.465684  ],\n",
       "       [0.42343348, 0.5765665 ],\n",
       "       [0.6942962 , 0.30570385],\n",
       "       [0.49126247, 0.50873756],\n",
       "       [0.45990118, 0.5400988 ],\n",
       "       [0.48875818, 0.51124185],\n",
       "       [0.68964064, 0.31035933],\n",
       "       [0.39759356, 0.6024065 ],\n",
       "       [0.36248073, 0.6375193 ],\n",
       "       [0.3859742 , 0.6140258 ],\n",
       "       [0.5508038 , 0.44919628],\n",
       "       [0.4643072 , 0.5356928 ],\n",
       "       [0.35376123, 0.6462388 ],\n",
       "       [0.51083016, 0.48916978],\n",
       "       [0.45613113, 0.5438689 ],\n",
       "       [0.491674  , 0.508326  ],\n",
       "       [0.48886535, 0.5111346 ],\n",
       "       [0.6860279 , 0.3139721 ],\n",
       "       [0.6874432 , 0.3125568 ],\n",
       "       [0.47781733, 0.52218264],\n",
       "       [0.7057366 , 0.2942634 ],\n",
       "       [0.43593207, 0.5640679 ],\n",
       "       [0.41478372, 0.58521634],\n",
       "       [0.68359756, 0.3164025 ],\n",
       "       [0.62846875, 0.37153125],\n",
       "       [0.5779083 , 0.4220917 ],\n",
       "       [0.498068  , 0.501932  ],\n",
       "       [0.4551662 , 0.5448337 ],\n",
       "       [0.51668054, 0.48331952],\n",
       "       [0.39472994, 0.6052701 ],\n",
       "       [0.5377193 , 0.46228075],\n",
       "       [0.495356  , 0.504644  ],\n",
       "       [0.33821025, 0.6617898 ],\n",
       "       [0.47965625, 0.5203438 ],\n",
       "       [0.4810538 , 0.51894623],\n",
       "       [0.46154544, 0.53845453],\n",
       "       [0.671301  , 0.328699  ],\n",
       "       [0.49172047, 0.50827956],\n",
       "       [0.5238263 , 0.47617373],\n",
       "       [0.5366542 , 0.46334586],\n",
       "       [0.4706408 , 0.5293592 ],\n",
       "       [0.47921598, 0.52078396],\n",
       "       [0.53217894, 0.46782106],\n",
       "       [0.55162895, 0.44837108],\n",
       "       [0.59888023, 0.40111974],\n",
       "       [0.5983048 , 0.4016952 ],\n",
       "       [0.53567404, 0.46432602],\n",
       "       [0.46980247, 0.5301975 ],\n",
       "       [0.5116112 , 0.48838878],\n",
       "       [0.5749307 , 0.42506936],\n",
       "       [0.5319049 , 0.46809512],\n",
       "       [0.5825051 , 0.4174949 ],\n",
       "       [0.46597698, 0.53402305],\n",
       "       [0.5198107 , 0.48018932],\n",
       "       [0.58885485, 0.41114515],\n",
       "       [0.6773201 , 0.32267982],\n",
       "       [0.41355997, 0.58644   ],\n",
       "       [0.5143698 , 0.4856302 ],\n",
       "       [0.54893094, 0.451069  ],\n",
       "       [0.38333437, 0.6166656 ],\n",
       "       [0.5686954 , 0.4313046 ],\n",
       "       [0.5066072 , 0.49339288],\n",
       "       [0.51156   , 0.48844004],\n",
       "       [0.4048999 , 0.59510005],\n",
       "       [0.40813935, 0.59186065],\n",
       "       [0.45610094, 0.5438991 ],\n",
       "       [0.52593654, 0.47406346],\n",
       "       [0.51247495, 0.48752502],\n",
       "       [0.46910223, 0.53089774],\n",
       "       [0.3975058 , 0.6024942 ],\n",
       "       [0.41430393, 0.58569604],\n",
       "       [0.5232826 , 0.47671738],\n",
       "       [0.54403174, 0.45596823],\n",
       "       [0.37686026, 0.6231397 ],\n",
       "       [0.4922237 , 0.50777626],\n",
       "       [0.4920022 , 0.5079978 ],\n",
       "       [0.3921653 , 0.60783464],\n",
       "       [0.46409652, 0.53590345],\n",
       "       [0.41861653, 0.58138347],\n",
       "       [0.4472749 , 0.55272514],\n",
       "       [0.46968117, 0.5303188 ],\n",
       "       [0.39044338, 0.60955656],\n",
       "       [0.49617508, 0.50382495],\n",
       "       [0.45215112, 0.54784894],\n",
       "       [0.4199563 , 0.5800437 ],\n",
       "       [0.6968297 , 0.30317032],\n",
       "       [0.50584257, 0.49415737],\n",
       "       [0.45549914, 0.5445009 ],\n",
       "       [0.47538   , 0.52462   ],\n",
       "       [0.4444033 , 0.5555967 ],\n",
       "       [0.47851035, 0.5214897 ],\n",
       "       [0.4689216 , 0.5310784 ],\n",
       "       [0.39978343, 0.6002165 ],\n",
       "       [0.3819414 , 0.6180586 ],\n",
       "       [0.4380375 , 0.5619625 ],\n",
       "       [0.512914  , 0.487086  ],\n",
       "       [0.4133689 , 0.58663106],\n",
       "       [0.5006301 , 0.49936992],\n",
       "       [0.36324522, 0.63675475],\n",
       "       [0.45665953, 0.5433405 ],\n",
       "       [0.47122645, 0.52877355],\n",
       "       [0.5361938 , 0.46380618],\n",
       "       [0.4628339 , 0.53716606],\n",
       "       [0.4860767 , 0.51392335],\n",
       "       [0.4146344 , 0.5853656 ],\n",
       "       [0.4382697 , 0.5617303 ],\n",
       "       [0.37266695, 0.62733305],\n",
       "       [0.34671444, 0.6532856 ],\n",
       "       [0.47482008, 0.5251799 ],\n",
       "       [0.51341784, 0.48658213],\n",
       "       [0.459013  , 0.5409871 ],\n",
       "       [0.48405483, 0.51594526],\n",
       "       [0.52796715, 0.47203282],\n",
       "       [0.47910044, 0.52089953],\n",
       "       [0.47490758, 0.5250924 ],\n",
       "       [0.47677925, 0.5232208 ],\n",
       "       [0.40586475, 0.5941353 ],\n",
       "       [0.4144586 , 0.5855414 ],\n",
       "       [0.5085198 , 0.49148023],\n",
       "       [0.43215454, 0.5678455 ],\n",
       "       [0.40441746, 0.5955826 ],\n",
       "       [0.46934158, 0.5306584 ],\n",
       "       [0.42865872, 0.5713412 ],\n",
       "       [0.42967984, 0.5703201 ],\n",
       "       [0.49420536, 0.5057947 ],\n",
       "       [0.52848977, 0.47151023],\n",
       "       [0.44205463, 0.5579454 ],\n",
       "       [0.45970386, 0.5402961 ],\n",
       "       [0.46852523, 0.53147477],\n",
       "       [0.49997848, 0.5000215 ],\n",
       "       [0.51242584, 0.4875742 ],\n",
       "       [0.504752  , 0.49524808],\n",
       "       [0.5255218 , 0.47447821],\n",
       "       [0.4896309 , 0.51036906],\n",
       "       [0.44919682, 0.5508032 ],\n",
       "       [0.43291903, 0.567081  ],\n",
       "       [0.53900874, 0.4609913 ],\n",
       "       [0.43955582, 0.56044424],\n",
       "       [0.48990095, 0.5100991 ],\n",
       "       [0.43126562, 0.5687344 ],\n",
       "       [0.5172805 , 0.48271948],\n",
       "       [0.46829617, 0.5317038 ],\n",
       "       [0.488573  , 0.5114269 ],\n",
       "       [0.40935448, 0.5906455 ],\n",
       "       [0.44534233, 0.55465764],\n",
       "       [0.5164969 , 0.48350316],\n",
       "       [0.48805565, 0.5119443 ],\n",
       "       [0.49451175, 0.5054883 ],\n",
       "       [0.453603  , 0.546397  ],\n",
       "       [0.5229288 , 0.47707123],\n",
       "       [0.45939776, 0.5406022 ],\n",
       "       [0.5872797 , 0.41272026],\n",
       "       [0.45232266, 0.54767734],\n",
       "       [0.47949332, 0.5205067 ],\n",
       "       [0.5379286 , 0.4620714 ],\n",
       "       [0.4683504 , 0.53164953],\n",
       "       [0.4533525 , 0.54664755],\n",
       "       [0.5087037 , 0.4912962 ],\n",
       "       [0.46304256, 0.53695744],\n",
       "       [0.48230374, 0.5176963 ],\n",
       "       [0.45983014, 0.5401698 ],\n",
       "       [0.4382423 , 0.56175774],\n",
       "       [0.4985902 , 0.5014097 ],\n",
       "       [0.4401352 , 0.55986476],\n",
       "       [0.44654137, 0.5534587 ],\n",
       "       [0.4609792 , 0.53902084],\n",
       "       [0.4604022 , 0.5395978 ],\n",
       "       [0.4854299 , 0.51457   ],\n",
       "       [0.46666223, 0.5333378 ],\n",
       "       [0.46950212, 0.53049785],\n",
       "       [0.43217728, 0.5678227 ],\n",
       "       [0.47899157, 0.5210084 ],\n",
       "       [0.50765157, 0.49234837],\n",
       "       [0.4516658 , 0.54833424],\n",
       "       [0.4654973 , 0.53450274],\n",
       "       [0.5167335 , 0.4832665 ],\n",
       "       [0.45818612, 0.5418139 ],\n",
       "       [0.47973382, 0.5202662 ],\n",
       "       [0.4823558 , 0.5176442 ],\n",
       "       [0.43821093, 0.5617891 ],\n",
       "       [0.40877435, 0.5912257 ],\n",
       "       [0.42962965, 0.57037026],\n",
       "       [0.42167392, 0.57832605],\n",
       "       [0.4090813 , 0.59091866],\n",
       "       [0.4838137 , 0.51618624],\n",
       "       [0.48882064, 0.5111793 ],\n",
       "       [0.45473   , 0.5452701 ],\n",
       "       [0.44041526, 0.55958474]], dtype=float32)"
      ]
     },
     "execution_count": 67,
     "metadata": {},
     "output_type": "execute_result"
    }
   ],
   "source": [
    "predictions_gray"
   ]
  },
  {
   "cell_type": "markdown",
   "id": "7a0c4807",
   "metadata": {},
   "source": [
    "4.3.4.3 Confusion Matrix"
   ]
  },
  {
   "cell_type": "code",
   "execution_count": 68,
   "id": "9fe5fcbd",
   "metadata": {},
   "outputs": [],
   "source": [
    "predictions_gray_rounded = np.argmax(predictions_gray, axis = -1)"
   ]
  },
  {
   "cell_type": "code",
   "execution_count": 69,
   "id": "41ea6495",
   "metadata": {},
   "outputs": [
    {
     "data": {
      "text/plain": [
       "array([1, 0, 1, 0, 0, 0, 0, 0, 0, 0, 0, 0, 1, 0, 0, 0, 0, 0, 0, 0, 0, 0,\n",
       "       1, 1, 0, 0, 0, 0, 0, 0, 1, 0, 1, 0, 1, 1, 0, 1, 1, 0, 1, 0, 1, 0,\n",
       "       0, 0, 0, 0, 1, 1, 0, 1, 0, 0, 0, 0, 0, 0, 0, 1, 0, 1, 0, 0, 0, 1,\n",
       "       0, 0, 0, 0, 0, 0, 1, 0, 1, 0, 0, 0, 0, 1, 0, 0, 0, 0, 0, 1, 0, 0,\n",
       "       0, 0, 0, 0, 0, 0, 0, 0, 0, 1, 0, 0, 1, 0, 1, 1, 1, 0, 1, 1, 0, 1,\n",
       "       0, 0, 1, 1, 1, 0, 0, 1, 1, 0, 1, 0, 1, 0, 0, 0, 0, 0, 1, 1, 0, 1,\n",
       "       0, 1, 1, 1, 0, 1, 0, 1, 0, 1, 0, 1, 1, 1, 1, 1, 0, 1, 0, 0, 0, 0,\n",
       "       0, 1, 1, 1, 1, 1, 1, 1, 1, 0, 1, 1, 0, 0, 1, 1, 1, 1, 1, 1, 1, 1,\n",
       "       0, 1, 0, 1, 1, 0, 1, 1, 1, 0, 0, 0, 1, 0, 1, 0, 0, 1, 1, 0, 0, 0,\n",
       "       1, 1, 0, 1, 0, 0, 0, 0, 1, 0, 1, 1, 1, 0, 0, 0, 0, 1, 0, 0, 0, 1,\n",
       "       0, 1, 0, 1, 0, 0, 1, 0, 1, 1, 1, 0, 1, 1, 1, 0, 1, 1, 0, 1, 1, 1,\n",
       "       0, 0, 1, 0, 1, 1, 0, 0, 0, 1, 1, 0, 1, 0, 1, 1, 1, 1, 1, 0, 1, 0,\n",
       "       0, 1, 1, 0, 0, 0, 0, 0, 1, 0, 0, 0, 0, 1, 0, 0, 0, 1, 0, 0, 1, 0,\n",
       "       0, 0, 1, 1, 1, 0, 0, 1, 1, 1, 0, 0, 1, 1, 1, 1, 1, 1, 1, 1, 1, 1,\n",
       "       1, 1, 0, 0, 1, 1, 1, 1, 1, 1, 1, 1, 0, 1, 0, 1, 1, 1, 0, 1, 1, 1,\n",
       "       1, 1, 1, 1, 0, 1, 1, 0, 1, 1, 1, 1, 1, 0, 1, 1, 1, 1, 1, 1, 0, 1,\n",
       "       1, 1, 1, 0, 0, 0, 1, 1, 1, 0, 1, 1, 1, 0, 1, 1, 1, 1, 0, 1, 1, 1,\n",
       "       0, 1, 0, 1, 1, 0, 1, 1, 0, 1, 1, 1, 1, 1, 1, 1, 1, 1, 1, 1, 1, 1,\n",
       "       1, 0, 1, 1, 0, 1, 1, 1, 1, 1, 1, 1, 1, 1, 1, 1, 1], dtype=int64)"
      ]
     },
     "execution_count": 69,
     "metadata": {},
     "output_type": "execute_result"
    }
   ],
   "source": [
    "predictions_gray_rounded"
   ]
  },
  {
   "cell_type": "code",
   "execution_count": 70,
   "id": "bdaee694",
   "metadata": {},
   "outputs": [],
   "source": [
    "labels_gray_rounded = np.argmax(labels_gray_test, axis = -1)"
   ]
  },
  {
   "cell_type": "code",
   "execution_count": 71,
   "id": "a14b24fe",
   "metadata": {},
   "outputs": [],
   "source": [
    "cm_gray = confusion_matrix(y_true = labels_gray_rounded, y_pred = predictions_gray_rounded)"
   ]
  },
  {
   "cell_type": "code",
   "execution_count": 72,
   "id": "3e7a6f29",
   "metadata": {},
   "outputs": [],
   "source": [
    "label_names = ['Benign', 'Malignant'] "
   ]
  },
  {
   "cell_type": "code",
   "execution_count": 73,
   "id": "42b5ef4a",
   "metadata": {},
   "outputs": [
    {
     "data": {
      "text/plain": [
       "Text(0, 0.5, 'True label')"
      ]
     },
     "execution_count": 73,
     "metadata": {},
     "output_type": "execute_result"
    },
    {
     "data": {
      "image/png": "[encoded data removed]",
      "text/plain": [
       "<Figure size 640x480 with 2 Axes>"
      ]
     },
     "metadata": {},
     "output_type": "display_data"
    }
   ],
   "source": [
    "disp = ConfusionMatrixDisplay(confusion_matrix = cm_gray, display_labels = label_names)\n",
    "\n",
    "palette = sns.color_palette('rocket')\n",
    "\n",
    "colormap = ListedColormap(palette.as_hex())\n",
    "\n",
    "disp.plot(cmap = colormap, colorbar = True)\n",
    "\n",
    "plt.rcParams.update({'font.size': 12})\n",
    "\n",
    "plt.xlabel('\\n\\nPredicted label', fontsize=16)\n",
    "plt.ylabel('True label', fontsize=16, labelpad=30)"
   ]
  },
  {
   "cell_type": "markdown",
   "id": "f2f683c9",
   "metadata": {},
   "source": [
    "### 4.4 Model RGB"
   ]
  },
  {
   "cell_type": "markdown",
   "id": "d388e0ef",
   "metadata": {},
   "source": [
    "> For this model, I'll utilize the binary cross-entropy loss function along with the sigmoid activation function for the last layer. These functions are commonly used for binary classification models.."
   ]
  },
  {
   "cell_type": "code",
   "execution_count": null,
   "id": "60a90d07",
   "metadata": {},
   "outputs": [],
   "source": [
    "# model_rgb_1 = Sequential([\n",
    "#              Conv2D(filters=32, kernel_size=(3, 3), activation='relu', padding='same', input_shape=(image_height, image_width, num_channels_rgb)),\n",
    "#              MaxPooling2D(pool_size=(2, 2), strides=2),\n",
    "#              Conv2D(filters=64, kernel_size=(3, 3), activation='relu', padding='same'),\n",
    "#              MaxPooling2D(pool_size=(2, 2), strides=2),\n",
    "#              Flatten(),\n",
    "#              Dense(units=2, activation='sigmoid')\n",
    "# ])"
   ]
  },
  {
   "cell_type": "code",
   "execution_count": null,
   "id": "e69c3dd4",
   "metadata": {},
   "outputs": [],
   "source": [
    "# model_rgb_1.compile(optimizer=Adam(learning_rate=0.0001), loss='binary_crossentropy', metrics=[tf.keras.metrics.Recall()])"
   ]
  },
  {
   "cell_type": "code",
   "execution_count": null,
   "id": "b27a1d7f",
   "metadata": {},
   "outputs": [],
   "source": [
    "# model_rgb_1.fit(images_rgb_train2, labels_rgb_train2, epochs=2, batch_size=10, validation_data=(images_rgb_val, labels_rgb_val))"
   ]
  },
  {
   "cell_type": "code",
   "execution_count": null,
   "id": "68129d63",
   "metadata": {},
   "outputs": [],
   "source": [
    "# model_rgb_1.fit(images_rgb_train2, labels_rgb_train2, epochs=2, batch_size=10, validation_data=(images_rgb_val, labels_rgb_val))"
   ]
  },
  {
   "cell_type": "code",
   "execution_count": null,
   "id": "ce0d721c",
   "metadata": {},
   "outputs": [],
   "source": [
    "# model_rgb_1.fit(images_rgb_train2, labels_rgb_train2, epochs=2, batch_size=10, validation_data=(images_rgb_val, labels_rgb_val))"
   ]
  },
  {
   "cell_type": "code",
   "execution_count": null,
   "id": "98f57f87",
   "metadata": {},
   "outputs": [],
   "source": [
    "# model_rgb_1.fit(images_rgb_train2, labels_rgb_train2, epochs=2, batch_size=10, validation_data=(images_rgb_val, labels_rgb_val))"
   ]
  },
  {
   "cell_type": "markdown",
   "id": "04b5df62",
   "metadata": {},
   "source": [
    "##### 4.4.2 Save Model"
   ]
  },
  {
   "cell_type": "code",
   "execution_count": null,
   "id": "5ea5f28a",
   "metadata": {},
   "outputs": [],
   "source": [
    "# model_rgb_1.save('fbp_model_2.h5')"
   ]
  },
  {
   "cell_type": "markdown",
   "id": "6b203c69",
   "metadata": {},
   "source": [
    "##### 4.4.3 Open Model"
   ]
  },
  {
   "cell_type": "code",
   "execution_count": 79,
   "id": "cb7ef719",
   "metadata": {},
   "outputs": [],
   "source": [
    "model_rgb = load_model('fbp_model_2.h5')"
   ]
  },
  {
   "cell_type": "markdown",
   "id": "4eeb1dc3",
   "metadata": {},
   "source": [
    "##### 4.4.4 Evaluate"
   ]
  },
  {
   "cell_type": "markdown",
   "id": "6c6a378d",
   "metadata": {},
   "source": [
    "4.4.4.1 Recall"
   ]
  },
  {
   "cell_type": "code",
   "execution_count": 80,
   "id": "34987ea3",
   "metadata": {},
   "outputs": [
    {
     "name": "stdout",
     "output_type": "stream",
     "text": [
      "13/13 - 27s - loss: 0.5422 - recall: 0.7409 - 27s/epoch - 2s/step\n"
     ]
    },
    {
     "data": {
      "text/plain": [
       "[0.5422439575195312, 0.7409201264381409]"
      ]
     },
     "execution_count": 80,
     "metadata": {},
     "output_type": "execute_result"
    }
   ],
   "source": [
    "model_rgb.evaluate(images_rgb_test, labels_rgb_test, verbose=2)"
   ]
  },
  {
   "cell_type": "markdown",
   "id": "f641ae2f",
   "metadata": {},
   "source": [
    "4.4.4.2 Predictions"
   ]
  },
  {
   "cell_type": "code",
   "execution_count": 81,
   "id": "7763f4f7",
   "metadata": {},
   "outputs": [
    {
     "name": "stdout",
     "output_type": "stream",
     "text": [
      "13/13 [==============================] - 27s 2s/step\n"
     ]
    }
   ],
   "source": [
    "probability_model_rgb = tf.keras.Sequential([model_rgb, tf.keras.layers.Softmax()])\n",
    "predictions_rgb = probability_model_rgb.predict(images_rgb_test)"
   ]
  },
  {
   "cell_type": "code",
   "execution_count": 82,
   "id": "eff2ae29",
   "metadata": {},
   "outputs": [
    {
     "data": {
      "text/plain": [
       "array([[0.5304021 , 0.46959782],\n",
       "       [0.52702194, 0.47297806],\n",
       "       [0.67918384, 0.32081616],\n",
       "       [0.67017186, 0.3298281 ],\n",
       "       [0.68287563, 0.3171244 ],\n",
       "       [0.57157815, 0.42842188],\n",
       "       [0.70329493, 0.2967051 ],\n",
       "       [0.7275163 , 0.27248368],\n",
       "       [0.4613697 , 0.53863025],\n",
       "       [0.6122213 , 0.3877787 ],\n",
       "       [0.72486407, 0.27513596],\n",
       "       [0.7181282 , 0.28187183],\n",
       "       [0.6959777 , 0.30402228],\n",
       "       [0.704998  , 0.29500198],\n",
       "       [0.5641532 , 0.43584678],\n",
       "       [0.7235054 , 0.27649456],\n",
       "       [0.7266986 , 0.2733014 ],\n",
       "       [0.7169145 , 0.28308547],\n",
       "       [0.68398887, 0.31601113],\n",
       "       [0.5442722 , 0.45572782],\n",
       "       [0.7057653 , 0.2942347 ],\n",
       "       [0.5401941 , 0.45980588],\n",
       "       [0.6172927 , 0.38270727],\n",
       "       [0.70313835, 0.2968616 ],\n",
       "       [0.7141197 , 0.28588036],\n",
       "       [0.69888824, 0.30111176],\n",
       "       [0.67688876, 0.32311127],\n",
       "       [0.66729647, 0.3327035 ],\n",
       "       [0.6428538 , 0.35714617],\n",
       "       [0.6929395 , 0.30706048],\n",
       "       [0.61610585, 0.38389418],\n",
       "       [0.62163293, 0.37836707],\n",
       "       [0.65078676, 0.34921324],\n",
       "       [0.67823607, 0.32176396],\n",
       "       [0.6473972 , 0.3526028 ],\n",
       "       [0.44343796, 0.556562  ],\n",
       "       [0.464148  , 0.535852  ],\n",
       "       [0.47585425, 0.5241458 ],\n",
       "       [0.562788  , 0.437212  ],\n",
       "       [0.5098164 , 0.49018356],\n",
       "       [0.5617153 , 0.43828467],\n",
       "       [0.67013466, 0.32986537],\n",
       "       [0.47619998, 0.52379996],\n",
       "       [0.7098581 , 0.29014185],\n",
       "       [0.71501005, 0.28498995],\n",
       "       [0.465572  , 0.53442794],\n",
       "       [0.71268713, 0.2873128 ],\n",
       "       [0.682743  , 0.31725702],\n",
       "       [0.5859003 , 0.4140997 ],\n",
       "       [0.7062669 , 0.2937331 ],\n",
       "       [0.70744497, 0.29255503],\n",
       "       [0.70627755, 0.2937225 ],\n",
       "       [0.60994375, 0.3900562 ],\n",
       "       [0.42010608, 0.5798939 ],\n",
       "       [0.7163254 , 0.28367463],\n",
       "       [0.716735  , 0.28326494],\n",
       "       [0.7217861 , 0.2782139 ],\n",
       "       [0.6369479 , 0.36305213],\n",
       "       [0.7117373 , 0.28826275],\n",
       "       [0.58257556, 0.4174244 ],\n",
       "       [0.6806283 , 0.3193717 ],\n",
       "       [0.59953374, 0.40046623],\n",
       "       [0.72410613, 0.27589387],\n",
       "       [0.71491086, 0.2850892 ],\n",
       "       [0.71608746, 0.28391257],\n",
       "       [0.68072015, 0.31927988],\n",
       "       [0.727419  , 0.27258092],\n",
       "       [0.64964634, 0.35035366],\n",
       "       [0.5407649 , 0.45923504],\n",
       "       [0.7017298 , 0.2982703 ],\n",
       "       [0.7264402 , 0.2735598 ],\n",
       "       [0.6309787 , 0.36902133],\n",
       "       [0.5875793 , 0.41242063],\n",
       "       [0.6225896 , 0.3774104 ],\n",
       "       [0.67359185, 0.3264081 ],\n",
       "       [0.6989275 , 0.30107242],\n",
       "       [0.64740044, 0.35259965],\n",
       "       [0.7189226 , 0.2810774 ],\n",
       "       [0.55849504, 0.441505  ],\n",
       "       [0.55207133, 0.44792864],\n",
       "       [0.53782725, 0.46217275],\n",
       "       [0.6216273 , 0.3783727 ],\n",
       "       [0.5326759 , 0.46732402],\n",
       "       [0.67692244, 0.3230776 ],\n",
       "       [0.6765939 , 0.3234061 ],\n",
       "       [0.41626552, 0.5837344 ],\n",
       "       [0.7237392 , 0.2762608 ],\n",
       "       [0.6760182 , 0.32398188],\n",
       "       [0.5225866 , 0.4774134 ],\n",
       "       [0.7011198 , 0.29888025],\n",
       "       [0.6860168 , 0.3139832 ],\n",
       "       [0.7242856 , 0.2757144 ],\n",
       "       [0.7249586 , 0.27504143],\n",
       "       [0.7172654 , 0.28273454],\n",
       "       [0.71822387, 0.28177613],\n",
       "       [0.7192131 , 0.28078684],\n",
       "       [0.7079301 , 0.29206985],\n",
       "       [0.72729844, 0.27270153],\n",
       "       [0.7287872 , 0.2712128 ],\n",
       "       [0.72737557, 0.2726244 ],\n",
       "       [0.50146335, 0.4985367 ],\n",
       "       [0.7260694 , 0.2739306 ],\n",
       "       [0.6857979 , 0.3142021 ],\n",
       "       [0.6091228 , 0.3908772 ],\n",
       "       [0.53134745, 0.46865255],\n",
       "       [0.6625156 , 0.3374844 ],\n",
       "       [0.4525031 , 0.54749686],\n",
       "       [0.35472023, 0.6452797 ],\n",
       "       [0.5340221 , 0.46597794],\n",
       "       [0.31357306, 0.68642694],\n",
       "       [0.40942088, 0.5905791 ],\n",
       "       [0.610783  , 0.38921702],\n",
       "       [0.42106217, 0.5789378 ],\n",
       "       [0.36069733, 0.6393027 ],\n",
       "       [0.33458614, 0.66541386],\n",
       "       [0.5114918 , 0.48850822],\n",
       "       [0.61734444, 0.38265565],\n",
       "       [0.33827806, 0.66172194],\n",
       "       [0.32500598, 0.674994  ],\n",
       "       [0.6635716 , 0.33642837],\n",
       "       [0.4247562 , 0.5752437 ],\n",
       "       [0.3938517 , 0.6061483 ],\n",
       "       [0.32675195, 0.67324805],\n",
       "       [0.47825092, 0.521749  ],\n",
       "       [0.32317236, 0.67682767],\n",
       "       [0.28943518, 0.7105648 ],\n",
       "       [0.39069238, 0.6093076 ],\n",
       "       [0.570037  , 0.42996293],\n",
       "       [0.37308887, 0.6269111 ],\n",
       "       [0.36765516, 0.63234484],\n",
       "       [0.52922577, 0.47077423],\n",
       "       [0.30133855, 0.69866145],\n",
       "       [0.37341902, 0.626581  ],\n",
       "       [0.30608854, 0.69391143],\n",
       "       [0.32286268, 0.6771373 ],\n",
       "       [0.61868685, 0.38131315],\n",
       "       [0.6638467 , 0.3361534 ],\n",
       "       [0.37568712, 0.62431294],\n",
       "       [0.5540922 , 0.4459078 ],\n",
       "       [0.37618   , 0.62382   ],\n",
       "       [0.6241389 , 0.37586105],\n",
       "       [0.48924115, 0.5107588 ],\n",
       "       [0.6396999 , 0.3603002 ],\n",
       "       [0.32115465, 0.6788454 ],\n",
       "       [0.34401155, 0.6559884 ],\n",
       "       [0.3161193 , 0.6838807 ],\n",
       "       [0.34387523, 0.6561248 ],\n",
       "       [0.5526247 , 0.4473752 ],\n",
       "       [0.5238067 , 0.47619328],\n",
       "       [0.29543445, 0.7045655 ],\n",
       "       [0.5935772 , 0.40642282],\n",
       "       [0.5597548 , 0.44024524],\n",
       "       [0.3811749 , 0.6188251 ],\n",
       "       [0.39878613, 0.6012139 ],\n",
       "       [0.48574534, 0.5142546 ],\n",
       "       [0.5003875 , 0.49961254],\n",
       "       [0.56934875, 0.43065125],\n",
       "       [0.45728022, 0.5427197 ],\n",
       "       [0.6583002 , 0.34169972],\n",
       "       [0.3730756 , 0.6269244 ],\n",
       "       [0.37117538, 0.6288246 ],\n",
       "       [0.40256903, 0.597431  ],\n",
       "       [0.3363667 , 0.66363335],\n",
       "       [0.56226456, 0.43773544],\n",
       "       [0.4325241 , 0.5674759 ],\n",
       "       [0.3180488 , 0.6819512 ],\n",
       "       [0.32555214, 0.6744479 ],\n",
       "       [0.3717582 , 0.62824184],\n",
       "       [0.6757081 , 0.32429186],\n",
       "       [0.480694  , 0.51930594],\n",
       "       [0.28051177, 0.7194882 ],\n",
       "       [0.48313117, 0.5168689 ],\n",
       "       [0.30459505, 0.6954049 ],\n",
       "       [0.28309307, 0.7169069 ],\n",
       "       [0.5431155 , 0.4568845 ],\n",
       "       [0.34699568, 0.65300435],\n",
       "       [0.56525826, 0.4347418 ],\n",
       "       [0.32834357, 0.6716564 ],\n",
       "       [0.4042206 , 0.59577936],\n",
       "       [0.359842  , 0.64015806],\n",
       "       [0.5302722 , 0.46972778],\n",
       "       [0.5871635 , 0.41283652],\n",
       "       [0.5051608 , 0.49483925],\n",
       "       [0.4109752 , 0.5890248 ],\n",
       "       [0.59040153, 0.40959844],\n",
       "       [0.46991467, 0.5300853 ],\n",
       "       [0.3509391 , 0.6490609 ],\n",
       "       [0.37742254, 0.6225775 ],\n",
       "       [0.53969043, 0.46030954],\n",
       "       [0.5795768 , 0.42042327],\n",
       "       [0.38166836, 0.6183317 ],\n",
       "       [0.47892636, 0.52107364],\n",
       "       [0.6807408 , 0.31925923],\n",
       "       [0.5582415 , 0.44175854],\n",
       "       [0.4952957 , 0.50470436],\n",
       "       [0.34348878, 0.65651125],\n",
       "       [0.37760302, 0.622397  ],\n",
       "       [0.43292275, 0.56707734],\n",
       "       [0.4669441 , 0.53305584],\n",
       "       [0.4235426 , 0.5764574 ],\n",
       "       [0.4556314 , 0.5443685 ],\n",
       "       [0.4405022 , 0.5594978 ],\n",
       "       [0.62175494, 0.37824503],\n",
       "       [0.52382326, 0.4761767 ],\n",
       "       [0.669126  , 0.33087403],\n",
       "       [0.49231648, 0.50768346],\n",
       "       [0.47963277, 0.5203672 ],\n",
       "       [0.38125688, 0.6187432 ],\n",
       "       [0.30507433, 0.69492567],\n",
       "       [0.5305247 , 0.46947533],\n",
       "       [0.38099572, 0.6190043 ],\n",
       "       [0.2909673 , 0.7090327 ],\n",
       "       [0.34078145, 0.6592186 ],\n",
       "       [0.4075857 , 0.59241426],\n",
       "       [0.33301505, 0.6669849 ],\n",
       "       [0.38196063, 0.6180394 ],\n",
       "       [0.3512173 , 0.64878273],\n",
       "       [0.37560236, 0.6243977 ],\n",
       "       [0.3351064 , 0.6648935 ],\n",
       "       [0.336651  , 0.663349  ],\n",
       "       [0.29579827, 0.7042017 ],\n",
       "       [0.44228154, 0.5577184 ],\n",
       "       [0.30775934, 0.69224066],\n",
       "       [0.41582584, 0.58417416],\n",
       "       [0.48788285, 0.5121172 ],\n",
       "       [0.5217735 , 0.4782265 ],\n",
       "       [0.55785257, 0.44214743],\n",
       "       [0.32762873, 0.6723713 ],\n",
       "       [0.4026159 , 0.59738415],\n",
       "       [0.40591407, 0.5940859 ],\n",
       "       [0.44042274, 0.5595772 ],\n",
       "       [0.3119311 , 0.6880689 ],\n",
       "       [0.566332  , 0.43366808],\n",
       "       [0.30078796, 0.6992121 ],\n",
       "       [0.55758935, 0.4424107 ],\n",
       "       [0.6792296 , 0.32077035],\n",
       "       [0.2872304 , 0.71276957],\n",
       "       [0.29879722, 0.70120275],\n",
       "       [0.52489805, 0.47510192],\n",
       "       [0.39032915, 0.6096709 ],\n",
       "       [0.5091526 , 0.49084738],\n",
       "       [0.52025336, 0.47974658],\n",
       "       [0.35621715, 0.6437828 ],\n",
       "       [0.35854194, 0.64145803],\n",
       "       [0.66518205, 0.334818  ],\n",
       "       [0.4127472 , 0.58725274],\n",
       "       [0.6423679 , 0.35763213],\n",
       "       [0.3713086 , 0.6286914 ],\n",
       "       [0.38104883, 0.61895114],\n",
       "       [0.3239263 , 0.6760737 ],\n",
       "       [0.49399835, 0.50600165],\n",
       "       [0.5316964 , 0.46830362],\n",
       "       [0.46636087, 0.53363913],\n",
       "       [0.38222063, 0.6177793 ],\n",
       "       [0.30111375, 0.69888633],\n",
       "       [0.4408836 , 0.5591164 ],\n",
       "       [0.3439084 , 0.6560916 ],\n",
       "       [0.42506903, 0.5749309 ],\n",
       "       [0.35324958, 0.64675045],\n",
       "       [0.3523142 , 0.6476858 ],\n",
       "       [0.4019155 , 0.5980845 ],\n",
       "       [0.3444435 , 0.65555644],\n",
       "       [0.4671384 , 0.5328616 ],\n",
       "       [0.5409054 , 0.45909455],\n",
       "       [0.5340256 , 0.46597442],\n",
       "       [0.4968389 , 0.50316113],\n",
       "       [0.62908715, 0.37091285],\n",
       "       [0.5579712 , 0.44202876],\n",
       "       [0.5826753 , 0.41732478],\n",
       "       [0.623116  , 0.37688407],\n",
       "       [0.5758393 , 0.42416072],\n",
       "       [0.5887865 , 0.4112135 ],\n",
       "       [0.6079217 , 0.39207825],\n",
       "       [0.58937746, 0.41062254],\n",
       "       [0.6651215 , 0.33487847],\n",
       "       [0.33085033, 0.6691496 ],\n",
       "       [0.39515144, 0.6048485 ],\n",
       "       [0.35965094, 0.6403491 ],\n",
       "       [0.35342607, 0.6465739 ],\n",
       "       [0.38650247, 0.6134975 ],\n",
       "       [0.44823363, 0.5517664 ],\n",
       "       [0.2902306 , 0.70976937],\n",
       "       [0.41171136, 0.5882886 ],\n",
       "       [0.37348232, 0.62651765],\n",
       "       [0.28920084, 0.7107991 ],\n",
       "       [0.596024  , 0.4039761 ],\n",
       "       [0.40702534, 0.59297466],\n",
       "       [0.4777147 , 0.5222853 ],\n",
       "       [0.304612  , 0.695388  ],\n",
       "       [0.30137393, 0.6986261 ],\n",
       "       [0.37871417, 0.62128586],\n",
       "       [0.4740545 , 0.5259454 ],\n",
       "       [0.28610542, 0.71389455],\n",
       "       [0.36228496, 0.63771504],\n",
       "       [0.29311022, 0.70688987],\n",
       "       [0.2940965 , 0.70590353],\n",
       "       [0.47022495, 0.5297751 ],\n",
       "       [0.31627008, 0.6837299 ],\n",
       "       [0.28619456, 0.71380544],\n",
       "       [0.32316774, 0.67683226],\n",
       "       [0.3926042 , 0.6073958 ],\n",
       "       [0.3069264 , 0.6930736 ],\n",
       "       [0.49239397, 0.5076061 ],\n",
       "       [0.36027065, 0.6397294 ],\n",
       "       [0.31854084, 0.6814591 ],\n",
       "       [0.32731453, 0.6726855 ],\n",
       "       [0.28328004, 0.71672   ],\n",
       "       [0.43920276, 0.56079733],\n",
       "       [0.3041968 , 0.69580317],\n",
       "       [0.29676282, 0.70323724],\n",
       "       [0.3084991 , 0.69150084],\n",
       "       [0.33460337, 0.6653967 ],\n",
       "       [0.3238946 , 0.67610544],\n",
       "       [0.33800793, 0.661992  ],\n",
       "       [0.29794607, 0.70205396],\n",
       "       [0.36099473, 0.63900524],\n",
       "       [0.3169051 , 0.68309486],\n",
       "       [0.28405744, 0.7159426 ],\n",
       "       [0.28537464, 0.7146254 ],\n",
       "       [0.28958005, 0.71041995],\n",
       "       [0.3294383 , 0.6705617 ],\n",
       "       [0.28784308, 0.7121569 ],\n",
       "       [0.2958769 , 0.70412314],\n",
       "       [0.2793523 , 0.72064763],\n",
       "       [0.3231622 , 0.6768378 ],\n",
       "       [0.35093287, 0.6490671 ],\n",
       "       [0.41209942, 0.58790064],\n",
       "       [0.28467065, 0.71532935],\n",
       "       [0.2936915 , 0.7063086 ],\n",
       "       [0.304289  , 0.695711  ],\n",
       "       [0.46664843, 0.5333515 ],\n",
       "       [0.35710016, 0.6428999 ],\n",
       "       [0.38456863, 0.61543137],\n",
       "       [0.33757997, 0.66242003],\n",
       "       [0.3438567 , 0.65614325],\n",
       "       [0.38694754, 0.61305237],\n",
       "       [0.38296384, 0.61703616],\n",
       "       [0.38234937, 0.61765057],\n",
       "       [0.32129505, 0.6787049 ],\n",
       "       [0.31991786, 0.6800821 ],\n",
       "       [0.36847642, 0.63152355],\n",
       "       [0.36888224, 0.63111776],\n",
       "       [0.3317276 , 0.66827244],\n",
       "       [0.47201553, 0.52798444],\n",
       "       [0.3982004 , 0.6017996 ],\n",
       "       [0.30268294, 0.697317  ],\n",
       "       [0.34490544, 0.65509456],\n",
       "       [0.3034132 , 0.6965868 ],\n",
       "       [0.38723785, 0.6127622 ],\n",
       "       [0.40244362, 0.5975563 ],\n",
       "       [0.45282108, 0.54717886],\n",
       "       [0.34673664, 0.65326333],\n",
       "       [0.5546753 , 0.4453247 ],\n",
       "       [0.58687365, 0.41312632],\n",
       "       [0.62641716, 0.37358284],\n",
       "       [0.5671114 , 0.43288866],\n",
       "       [0.5440764 , 0.45592365],\n",
       "       [0.43720064, 0.5627994 ],\n",
       "       [0.4501899 , 0.54981005],\n",
       "       [0.31948027, 0.6805197 ],\n",
       "       [0.3902342 , 0.6097658 ],\n",
       "       [0.37135532, 0.62864465],\n",
       "       [0.3443947 , 0.6556053 ],\n",
       "       [0.48064765, 0.5193523 ],\n",
       "       [0.36122748, 0.6387725 ],\n",
       "       [0.4846148 , 0.51538515],\n",
       "       [0.32084107, 0.67915887],\n",
       "       [0.51739085, 0.48260918],\n",
       "       [0.31815848, 0.68184155],\n",
       "       [0.3262986 , 0.6737014 ],\n",
       "       [0.49016955, 0.5098304 ],\n",
       "       [0.34529805, 0.65470195],\n",
       "       [0.31016934, 0.68983066],\n",
       "       [0.34545025, 0.65454966],\n",
       "       [0.4047646 , 0.5952354 ],\n",
       "       [0.29084888, 0.7091511 ],\n",
       "       [0.29932794, 0.7006721 ],\n",
       "       [0.30278924, 0.6972108 ],\n",
       "       [0.36710736, 0.63289267],\n",
       "       [0.3983638 , 0.6016362 ],\n",
       "       [0.34021807, 0.659782  ],\n",
       "       [0.37557676, 0.62442327],\n",
       "       [0.56822616, 0.4317738 ],\n",
       "       [0.32699123, 0.6730087 ],\n",
       "       [0.32578155, 0.6742184 ],\n",
       "       [0.37890986, 0.6210902 ],\n",
       "       [0.305615  , 0.694385  ],\n",
       "       [0.429249  , 0.5707511 ],\n",
       "       [0.33394155, 0.6660585 ],\n",
       "       [0.39088917, 0.6091108 ],\n",
       "       [0.49828973, 0.50171024],\n",
       "       [0.3783162 , 0.6216839 ],\n",
       "       [0.32396913, 0.67603093],\n",
       "       [0.34896275, 0.6510372 ],\n",
       "       [0.31853694, 0.68146306],\n",
       "       [0.3176027 , 0.6823973 ],\n",
       "       [0.35602462, 0.64397544],\n",
       "       [0.5111422 , 0.48885778],\n",
       "       [0.49668437, 0.50331557],\n",
       "       [0.38361242, 0.6163876 ],\n",
       "       [0.33905312, 0.66094685],\n",
       "       [0.29758808, 0.70241195],\n",
       "       [0.39998436, 0.6000156 ],\n",
       "       [0.37776116, 0.6222388 ],\n",
       "       [0.304207  , 0.69579303],\n",
       "       [0.3379171 , 0.6620829 ],\n",
       "       [0.31868023, 0.6813198 ],\n",
       "       [0.40507913, 0.5949209 ],\n",
       "       [0.33291927, 0.6670807 ],\n",
       "       [0.32685924, 0.6731408 ],\n",
       "       [0.43077746, 0.5692225 ],\n",
       "       [0.38642162, 0.6135784 ],\n",
       "       [0.43380383, 0.56619614]], dtype=float32)"
      ]
     },
     "execution_count": 82,
     "metadata": {},
     "output_type": "execute_result"
    }
   ],
   "source": [
    "predictions_rgb"
   ]
  },
  {
   "cell_type": "markdown",
   "id": "26d9882c",
   "metadata": {},
   "source": [
    "4.4.4.3 Confusion Matrix"
   ]
  },
  {
   "cell_type": "code",
   "execution_count": 83,
   "id": "5039fbcf",
   "metadata": {},
   "outputs": [],
   "source": [
    "predictions_rgb_rounded = np.argmax(predictions_rgb, axis = -1)\n",
    "labels_rgb_rounded = np.argmax(labels_rgb_test, axis = -1)"
   ]
  },
  {
   "cell_type": "code",
   "execution_count": 84,
   "id": "78c01b66",
   "metadata": {},
   "outputs": [
    {
     "data": {
      "text/plain": [
       "array([[131,  75],\n",
       "       [ 33, 174]], dtype=int64)"
      ]
     },
     "execution_count": 84,
     "metadata": {},
     "output_type": "execute_result"
    }
   ],
   "source": [
    "cm_rgb = confusion_matrix(labels_rgb_rounded, predictions_rgb_rounded)\n",
    "cm_rgb"
   ]
  },
  {
   "cell_type": "code",
   "execution_count": 85,
   "id": "780b141b",
   "metadata": {},
   "outputs": [
    {
     "data": {
      "text/plain": [
       "Text(0, 0.5, 'True label')"
      ]
     },
     "execution_count": 85,
     "metadata": {},
     "output_type": "execute_result"
    },
    {
     "data": {
      "image/png": "[encoded data removed]",
      "text/plain": [
       "<Figure size 640x480 with 2 Axes>"
      ]
     },
     "metadata": {},
     "output_type": "display_data"
    }
   ],
   "source": [
    "label_names = ['Benign', 'Malignant'] \n",
    "\n",
    "disp = ConfusionMatrixDisplay(confusion_matrix = cm_rgb, display_labels = label_names)\n",
    "\n",
    "disp.plot(cmap = colormap, colorbar = True)\n",
    "\n",
    "plt.rcParams.update({'font.size': 12})\n",
    "\n",
    "plt.xlabel('\\n\\nPredicted label', fontsize=16)\n",
    "plt.ylabel('True label', fontsize=16, labelpad=30)\n",
    "\n"
   ]
  },
  {
   "cell_type": "markdown",
   "id": "345e2824",
   "metadata": {},
   "source": [
    "### 5 Improving Recall"
   ]
  },
  {
   "cell_type": "markdown",
   "id": "8315cf54",
   "metadata": {},
   "source": [
    "> Since I aim to improve recall but can't introduce more pictures into the model due to memory limitations, I've devised an alternative approach: for predictions classified as benign by the grayscale model, I'll seek a second opinion from the RGB model."
   ]
  },
  {
   "cell_type": "code",
   "execution_count": 86,
   "id": "71041f63",
   "metadata": {},
   "outputs": [],
   "source": [
    "predictions_rounded_recall = np.array([])\n",
    "\n",
    "for i in range(0, len(predictions_gray_rounded)):\n",
    "    if predictions_gray_rounded[i] == 0:\n",
    "        predictions_rounded_recall = np.append(predictions_rounded_recall, predictions_rgb_rounded[i])\n",
    "    else:\n",
    "        predictions_rounded_recall = np.append(predictions_rounded_recall, 1)"
   ]
  },
  {
   "cell_type": "code",
   "execution_count": 87,
   "id": "6e61b3e9",
   "metadata": {},
   "outputs": [],
   "source": [
    "cm_recall = confusion_matrix(y_true = labels_rgb_rounded, y_pred = predictions_rounded_recall)"
   ]
  },
  {
   "cell_type": "code",
   "execution_count": 88,
   "id": "992a9395",
   "metadata": {},
   "outputs": [
    {
     "data": {
      "text/plain": [
       "Text(0, 0.5, 'True label')"
      ]
     },
     "execution_count": 88,
     "metadata": {},
     "output_type": "execute_result"
    },
    {
     "data": {
      "image/png": "[encoded data removed]",
      "text/plain": [
       "<Figure size 640x480 with 2 Axes>"
      ]
     },
     "metadata": {},
     "output_type": "display_data"
    }
   ],
   "source": [
    "label_names = ['Benign', 'Malignant'] \n",
    "\n",
    "disp = ConfusionMatrixDisplay(confusion_matrix = cm_recall, display_labels = label_names)\n",
    "\n",
    "disp.plot(cmap = colormap, colorbar = True)\n",
    "\n",
    "plt.rcParams.update({'font.size': 12})\n",
    "\n",
    "plt.xlabel('\\n\\nPredicted label', fontsize=16)\n",
    "plt.ylabel('True label', fontsize=16, labelpad=30)"
   ]
  },
  {
   "cell_type": "code",
   "execution_count": 89,
   "id": "45dd349e",
   "metadata": {},
   "outputs": [
    {
     "data": {
      "text/plain": [
       "0.8985507246376812"
      ]
     },
     "execution_count": 89,
     "metadata": {},
     "output_type": "execute_result"
    }
   ],
   "source": [
    "recall= 186/(21+186)\n",
    "recall"
   ]
  },
  {
   "cell_type": "markdown",
   "id": "35dd56f2",
   "metadata": {},
   "source": [
    "### 6 Conclusions"
   ]
  },
  {
   "cell_type": "markdown",
   "id": "58ab0f40",
   "metadata": {},
   "source": [
    "> With a recall of almost 90%, this model proves to be a valuable tool that can serve as a second opinion for individuals who have previously been diagnosed with a benign lesion by a doctor.\n",
    ">\n",
    "> This model could potentially serve as an alert, prompting individuals to consult their doctor for a second test if the model predicts a malignancy, despite a previous benign diagnosis.\n",
    ">\n",
    "> Nonetheless, there is room for improvement, with a precision score of 62%. Additionally, considering the significance of detecting malignant lesions, it's crucial to review the results alongside their probabilities. Always consult a doctor as a priority."
   ]
  },
  {
   "cell_type": "markdown",
   "id": "b7a6748f",
   "metadata": {},
   "source": [
    "### 7 Test picture function"
   ]
  },
  {
   "cell_type": "markdown",
   "id": "fac3daeb",
   "metadata": {},
   "source": [
    "> I have also created this function to check individual cases."
   ]
  },
  {
   "cell_type": "code",
   "execution_count": 129,
   "id": "e5fd79f0",
   "metadata": {},
   "outputs": [],
   "source": [
    "def test_picture(pict):\n",
    "    \n",
    "    width, height = 600, 450\n",
    "    \n",
    "    image_gray = Image.open('fbp_pictures_1/'+pict+'.jpg')\n",
    "    image_gray = image_gray.resize((width, height))\n",
    "    image_gray = ImageOps.grayscale(image_gray)\n",
    "    image_gray = np.array(image_gray)\n",
    "    image_gray = image_gray.reshape(1, 450, 600, 1)\n",
    "    image_gray = image_gray/255\n",
    "    predictions_gray = probability_model_gray.predict(image_gray)\n",
    "    \n",
    "    image_rgb = Image.open('fbp_pictures_1/'+pict+'.jpg')\n",
    "    image_rgb = image_rgb.resize((width, height))\n",
    "    image_rgb = np.array(image_rgb)\n",
    "    image_rgb = image_rgb.reshape(1, 450, 600, 3)\n",
    "    image_rgb = image_rgb/255\n",
    "    predictions_rgb = probability_model_rgb.predict(image_rgb)\n",
    "    \n",
    "    if predictions_gray[0][1] >= 0.5:\n",
    "        print(f'The model predicts the lesion to be malignant with a probability of {round(predictions_gray[0][1] * 100)} %.')\n",
    "    else:\n",
    "        if predictions_rgb[0][1] >= 0.5:\n",
    "            print(f'The model predicts the lesion to be malignant with a probability of {round(predictions_rgb[0][1] * 100)} %.')\n",
    "        else:\n",
    "            print(f'The model predicts the lesion to be benign with a probability of {round(predictions_rgb[0][0] * 100)} %.')\n",
    "    \n",
    "    return predictions_gray, predictions_rgb"
   ]
  },
  {
   "cell_type": "code",
   "execution_count": 130,
   "id": "d111a0fa",
   "metadata": {},
   "outputs": [
    {
     "name": "stdout",
     "output_type": "stream",
     "text": [
      "1/1 [==============================] - 0s 95ms/step\n",
      "1/1 [==============================] - 0s 94ms/step\n",
      "The model predicts the lesion to be malignant with a probability of 53 %.\n"
     ]
    },
    {
     "data": {
      "text/plain": [
       "(array([[0.47013238, 0.52986765]], dtype=float32),\n",
       " array([[0.31604213, 0.6839579 ]], dtype=float32))"
      ]
     },
     "execution_count": 130,
     "metadata": {},
     "output_type": "execute_result"
    }
   ],
   "source": [
    "test_picture('ISIC_0025781')"
   ]
  }
 ],
 "metadata": {
  "kernelspec": {
   "display_name": "Python 3 (ipykernel)",
   "language": "python",
   "name": "python3"
  },
  "language_info": {
   "codemirror_mode": {
    "name": "ipython",
    "version": 3
   },
   "file_extension": ".py",
   "mimetype": "text/x-python",
   "name": "python",
   "nbconvert_exporter": "python",
   "pygments_lexer": "ipython3",
   "version": "3.10.9"
  }
 },
 "nbformat": 4,
 "nbformat_minor": 5
}
